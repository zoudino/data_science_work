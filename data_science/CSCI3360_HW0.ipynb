{
 "cells": [
  {
   "cell_type": "markdown",
   "metadata": {
    "ein.tags": [
     "worksheet-0"
    ],
    "slideshow": {
     "slide_type": "-"
    }
   },
   "source": [
    "# HW 0: Anaconda install\n",
    "\n",
    "The purpose of this assignment is to help you setup the environment for [python](https://www.python.org) data analysis, so that you can start the course smoothly. The submission deadline is **11:59 pm Jan. 12th, 2018**. After installing the python and extra packages, try running the codes in this notebook on your system. Name your notebook as \"hw0.ipynb\" and submit it to the dropbox on eLC.\n",
    "- submission deadline: by 11:59pm Jan. 12, 2018\n",
    "- name the file \"hw0.ipynb\"\n",
    "- submit it to the \"hw0\" dropbox on the eLC\n",
    "\n",
    "## Installing Python\n",
    "For this course we will frequently use the following python \"__packages__\".\n",
    "- numpy\n",
    "- scipy\n",
    "- pandas\n",
    "- matplotlib\n",
    "- sklearn\n",
    "- jupyter notebook\n",
    "\n",
    "While you can download and install each package from [PyPI](https://pypi.python.org/pypi) using PIP, I suggest you to install the Anaconda python distribution, which comes with some popular third party packages (e.g., numpy, scipy, and sklearn). Also, all the code examples and lectures will assume you have installed the Anaconda.\n",
    "\n",
    "### Installing Anaconda\n",
    "Installing anaconda can be done with just a few clicks.\n",
    "1. Visit this [page](https://docs.continuum.io/anaconda/install) and read the instructions.\n",
    "2. Download the correct installer for your OS and architecture.\n",
    "    - Window/Linux/OS X\n",
    "    - 32bit VS 64bit\n",
    "3. Make sure that you download the ***Python 2.7 version***.\n",
    "4. After the installation is done, test it by running the ipython.\n",
    "```\n",
    "ipython\n",
    "```\n",
    "You should see something like this:   \n",
    "<img src='http://www.cs.uga.edu/~jwlee/teaching/csci3360/images/ipython_test.png' width=\"640\" align=\"left\" />\n",
    "<br clear=\"all\" />\n",
    "\n",
    "### (Optional) If you already have installed Python or Anaconda \n",
    "If you've been using Anaconda, then you just need to update the packages to their latest version.\n",
    "```\n",
    "conda update conda\n",
    "conda update anaconda\n",
    "```\n",
    "\n",
    "If you have python installed on your system and don't want to install anaconda, you can try installing each package using the PIP, a python package installer. If you want to find more about pip, see this [page](https://packaging.python.org/tutorials/installing-packages/). First, you need to update the pip to the latest version.\n",
    "```bash\n",
    "pip install --upgrade pip\n",
    "```\n",
    "Once it is done, try installing the following packages:\n",
    "```bash\n",
    "pip install numpy \n",
    "pip install scipy\n",
    "pip install matplotlib\n",
    "pip installl sklearn\n",
    "```\n",
    "Now let's check the version of installed packages. \n",
    "### Q1. Report the versions of packages on your system (5 pts).\n",
    "Run the following code on your system."
   ]
  },
  {
   "cell_type": "code",
   "execution_count": 1,
   "metadata": {},
   "outputs": [
    {
     "name": "stdout",
     "output_type": "stream",
     "text": [
      "numpy.version=1.12.1\n",
      "scipy.version=1.0.0\n",
      "matplotlib.version=2.1.0\n",
      "sklearn.version=0.19.1\n",
      "pandas.version=0.21.0\n"
     ]
    }
   ],
   "source": [
    "import numpy as np\n",
    "import scipy\n",
    "import matplotlib\n",
    "import sklearn\n",
    "import pandas as pd\n",
    "\n",
    "versions = (\n",
    "    ('numpy', np.__version__),\n",
    "    ('scipy', scipy.__version__),\n",
    "    ('matplotlib', matplotlib.__version__),\n",
    "    ('sklearn', sklearn.__version__),\n",
    "    ('pandas', pd.__version__)\n",
    ")\n",
    "\n",
    "# this syntax is very useful when you concatenate a sequence of words with intervening separators\n",
    "str = '\\n'.join(\"{0}.version={1}\".format(pkgname, ver)\n",
    "                for (pkgname, ver) in versions)\n",
    "print str"
   ]
  },
  {
   "cell_type": "markdown",
   "metadata": {},
   "source": [
    "## Hello World\n",
    "Let's start by introducing how to print out strings in python. To print strings or to see the value stored in a variable, you can use `print` function. Type the following code in a (code) cell and press `shift + enter`."
   ]
  },
  {
   "cell_type": "code",
   "execution_count": 4,
   "metadata": {},
   "outputs": [
    {
     "name": "stdout",
     "output_type": "stream",
     "text": [
      "Hello CSCI 3360\n",
      "The first way to print 19980\n",
      "Hello CSCI 3360\n",
      "Hello 3360 CSCI\n",
      "Hello huge tank\n",
      "Hello CSCI 3360\n",
      "Hello CSCI 3360\n",
      "Hello CSCI 3360\n",
      "Hello CSCI 3360.00\n",
      "Hello CSCI       3360\n",
      "Hello CSCI 3360      \n"
     ]
    }
   ],
   "source": [
    "#redo the exercise to improve you understanding of python. Try to understand more methods and the packages for doing things\n",
    "# printing comma separated items\n",
    "print \"Hello CSCI\", 112*30\n",
    "print \"The first way to print\",999*20\n",
    "\n",
    "# better syntax for output formatting\n",
    "print \"Hello {0} {1}\".format(\"CSCI\", 112*30)\n",
    "print \"Hello {1} {0}\".format(\"CSCI\", 112*30)\n",
    "#this type of print could help us to get the output based on any variables you have\n",
    "print \"Hello {0} {1}\".format(\"huge\",\"tank\")\n",
    "\n",
    "# you can also use keyword arguments\n",
    "print \"Hello {deptid} {course_num}\".format(deptid=\"CSCI\", course_num=3360)\n",
    "\n",
    "# positional arguments\n",
    "print \"Hello {} {}\".format(\"CSCI\", 3360)\n",
    "\n",
    "\n",
    "# You can tell the python interpreter to use a specific data type.\n",
    "# For more about format string sytax, see https://docs.python.org/3.4/library/string.html#formatspec\n",
    "\n",
    "print \"Hello {0:s} {1:d}\".format(\"CSCI\", 3360)\n",
    "# print up to 2 digits after the decimal point\n",
    "print \"Hello {0:s} {1:.2f}\".format(\"CSCI\", 3360)\n",
    "# 10 digit integer (right aligned by default)\n",
    "print \"Hello {0:s} {1:10d}\".format(\"CSCI\", 3360)\n",
    "# to align left\n",
    "print \"Hello {0:s} {1:<10d}\".format(\"CSCI\", 3360)\n"
   ]
  },
  {
   "cell_type": "markdown",
   "metadata": {},
   "source": [
    "## Containers\n",
    "Python has various built-in containers and a set of functions to manipulate them. \n",
    "\n",
    "### List\n",
    "The first container type we will look at is the list. A list is a _mutable_ collection of object, which means that it's resizable and can contain different types. To find a complete list of available functions on a list, refer to this [document](https://docs.python.org/3/tutorial/datastructures.html)."
   ]
  },
  {
   "cell_type": "code",
   "execution_count": 17,
   "metadata": {},
   "outputs": [
    {
     "name": "stdout",
     "output_type": "stream",
     "text": [
      "[1, 2, 3, 'red', 'blue', 'green', 3360]\n",
      "[1, 2, 3, 'red', 'blue', 'green', 3360, 1]\n",
      "First item in my list is 1\n",
      "The item at index 5 is green\n",
      "[2, 3, 'red', 'blue', 'green', 3360, 1]\n"
     ]
    }
   ],
   "source": [
    "# creating a list\n",
    "mylist = [1, 2, 3, 'red', 'blue', 'green', 112*30]\n",
    "print mylist\n",
    "\n",
    "# add an item at the end of the list\n",
    "mylist.append(1)\n",
    "print mylist\n",
    "\n",
    "# access each item with a (zero-starting) index\n",
    "print \"First item in my list is {0}\".format(mylist[0])\n",
    "print \"The item at index {0} is {1}\".format(5, mylist[5])\n",
    "\n",
    "# remove the i-th element\n",
    "last_item = mylist.pop(0)\n",
    "print mylist"
   ]
  },
  {
   "cell_type": "markdown",
   "metadata": {},
   "source": [
    "**Slicing**: in addition to indexing, python provides an easy way of obtaining a subset of elements, which is called _slicing_. The syntax for slicing is `list[start:end:stride]`. Note that the start index is included while the end is not included. This will become clear once you see the following examples."
   ]
  },
  {
   "cell_type": "code",
   "execution_count": 56,
   "metadata": {
    "scrolled": true
   },
   "outputs": [
    {
     "name": "stdout",
     "output_type": "stream",
     "text": [
      "[0, 1, 2, 3, 4, 5, 6, 7, 8, 9]\n",
      "[1, 2]\n",
      "[5, 6, 7, 8, 9]\n",
      "[0, 1, 2, 3, 4]\n",
      "[0, 2, 4, 6, 8]\n",
      "[0, 3, 6, 9]\n",
      "9\n",
      "[5, 6, 7, 8]\n",
      "[5, 7]\n",
      "[9, 8, 7, 6, 5, 4, 3, 2, 1, 0]\n"
     ]
    }
   ],
   "source": [
    "n = 10\n",
    "x = range(n)  # this generates (nonnegative) integers smaller than n\n",
    "print x\n",
    "\n",
    "print x[1:3]  # the default value for stride is 1\n",
    "print x[5:]   # print all the elements whose index is great than or equal to 5\n",
    "print x[:5]   # print all the elements whose index is smaller than 5\n",
    "print x[::2]  # print every other element\n",
    "print x[::3]  # every 3rd element\n",
    "\n",
    "print x[-1]  # use a negative index to access elements from the back\n",
    "print x[5:-1]\n",
    "print x[-5:-1:2]  # what will be the output?\n",
    "\n",
    "# to reverse a list, you can do \n",
    "print x[::-1]"
   ]
  },
  {
   "cell_type": "markdown",
   "metadata": {},
   "source": [
    "### Q2. reverse a string using the list slicing (5 pts).\n",
    "\n",
    "In python, you can view a string as a list of characters. For example, `str=\"hello\"` is a list with 5 elements. As you can expect, `str[0] == 'h', str[1] == 'e'`, and so on. Print a reversed string of `\"hello\"` using the _list slicing_. In other words, your output must be `\"olleh\"`."
   ]
  },
  {
   "cell_type": "code",
   "execution_count": 57,
   "metadata": {
    "collapsed": true
   },
   "outputs": [],
   "source": [
    "# your code goes here (you only need one line of code!)"
   ]
  },
  {
   "cell_type": "markdown",
   "metadata": {},
   "source": [
    "**Looping over a list**: When programming in python, we often need to iterate lists (with an index). If you need to access each element with their index,use the built-in `enumerate()` function."
   ]
  },
  {
   "cell_type": "code",
   "execution_count": 26,
   "metadata": {
    "scrolled": true
   },
   "outputs": [
    {
     "name": "stdout",
     "output_type": "stream",
     "text": [
      "a\n",
      "b\n",
      "c\n",
      "d\n",
      "e\n",
      "f\n",
      "\n",
      "enumerate() returns tuples, where each tuple contains an index and an item\n",
      "0 a\n",
      "1 b\n",
      "2 c\n",
      "3 d\n",
      "4 e\n",
      "5 f\n"
     ]
    }
   ],
   "source": [
    "alphabet = ['a', 'b', 'c', 'd', 'e', 'f']\n",
    "\n",
    "for letter in alphabet:\n",
    "    print letter\n",
    "    \n",
    "print \"\\nenumerate() returns tuples, where each tuple contains an index and an item\"\n",
    "# if you need their indices as well\n",
    "for i, letter in enumerate(alphabet):\n",
    "    print i, letter"
   ]
  },
  {
   "cell_type": "markdown",
   "metadata": {},
   "source": [
    "### Dictionaries\n",
    "A dictionary is useful if you need to store and access the data using key-value pairs. This is a python equivalent of `Map` in Java."
   ]
  },
  {
   "cell_type": "code",
   "execution_count": 36,
   "metadata": {},
   "outputs": [
    {
     "name": "stdout",
     "output_type": "stream",
     "text": [
      "red -> 0xFF0000\n",
      "Is pink in d? False\n",
      "Is green in d? True\n",
      "red -> 0xFF0000\n",
      "pink -> unknown\n",
      "green -> 0x00FF00\n",
      "yellow -> unknown\n",
      "blue -> 0x0000FF\n"
     ]
    }
   ],
   "source": [
    "# the syntax is {key1: value1, key2: value2, ...}\n",
    "d = {'red': '0xFF0000', 'green': '0x00FF00', 'blue': '0x0000FF'}  # useful for storing mappings\n",
    "\n",
    "print \"red -> {}\".format(d['red'])\n",
    "print \"Is pink in d? {}\".format('pink' in d)\n",
    "print \"Is green in d? {}\".format('green' in d)\n",
    "\n",
    "# if you try to access an item not in the dictionary, it throws an error\n",
    "# uncomment the following line and try it by your self.\n",
    "# print \"pink -> {}\".format(d['pink'])\n",
    "\n",
    "# you can avoid this error by specifying a default value\n",
    "colors = ['red', 'pink', 'green', 'yellow', 'blue']\n",
    "\n",
    "for color in colors:\n",
    "    print '{} -> {}'.format(color, d.get(color, 'unknown'))"
   ]
  },
  {
   "cell_type": "markdown",
   "metadata": {},
   "source": [
    "**Adding and modifying**: A new key-value pair will be added if there's no item with the same key. If the key exists, it modifies the existing value."
   ]
  },
  {
   "cell_type": "code",
   "execution_count": 38,
   "metadata": {},
   "outputs": [
    {
     "name": "stdout",
     "output_type": "stream",
     "text": [
      "{'blue': '0x0000FF', 'skyblue': '0x00FAFF', 'green': '0x00FF00', 'red': '0xFFFFFF'}\n"
     ]
    }
   ],
   "source": [
    "d['skyblue'] = '0x00FAFF'  # adding a new entry\n",
    "d['red'] = '0xFFFFFF'      # modifying an existing entry\n",
    "print d"
   ]
  },
  {
   "cell_type": "markdown",
   "metadata": {},
   "source": [
    "**Looping**: you iterate the dictionary using a simple _for ...in_ statement."
   ]
  },
  {
   "cell_type": "code",
   "execution_count": 39,
   "metadata": {},
   "outputs": [
    {
     "name": "stdout",
     "output_type": "stream",
     "text": [
      "color blue, code 0x0000FF\n",
      "color skyblue, code 0x00FAFF\n",
      "color green, code 0x00FF00\n",
      "color red, code 0xFFFFFF\n"
     ]
    }
   ],
   "source": [
    "for color in d:\n",
    "    print 'color {}, code {}'.format(color, d[color])"
   ]
  },
  {
   "cell_type": "markdown",
   "metadata": {},
   "source": [
    "### Sets\n",
    "A list is useful when storing a sequence of heterogeneous objects, but it allows _duplicates_. Suppose you want to count the number of **disticnt** words in a movie review dataset. You can use the list for doing this but need to check if the list already contains the word whenever you insert into the list. A set in python is a _mutable, unordered, and unique_ collection of objects. It is designed to reflect the properties of a mathematical set. For more information, see [here](https://docs.python.org/2/library/stdtypes.html#set).\n",
    "\n",
    "**Creation**: you can create an empty set using the built-in `set()` function. Optionally, you can provide an _iterable_ object as an argument to create the set from the elements of existing container."
   ]
  },
  {
   "cell_type": "code",
   "execution_count": 54,
   "metadata": {},
   "outputs": [
    {
     "name": "stdout",
     "output_type": "stream",
     "text": [
      "An empty set:  set([])\n",
      "S after adding 2 elements:  set([1, 2])\n",
      "S1:  set([8, 2, 4, 6])\n",
      "S2:  set([2, 3, 5, 7])\n",
      "S3:  set([1])\n"
     ]
    }
   ],
   "source": [
    "s = set()  # an empty set\n",
    "print \"An empty set: \", s\n",
    "\n",
    "# add an element\n",
    "s.add(1)\n",
    "s.add(2)\n",
    "print \"S after adding 2 elements: \", s\n",
    "\n",
    "s1 = set(range(2, 10, 2))  # creating a set from a list\n",
    "print \"S1: \", s1\n",
    "\n",
    "s2 = set([2, 3, 5, 7])  # set of prime numbers\n",
    "print \"S2: \", s2\n",
    "\n",
    "s3 = set([1, 1, 1, 1, 1])  # generate from a list with duplicates\n",
    "print \"S3: \", s3"
   ]
  },
  {
   "cell_type": "markdown",
   "metadata": {},
   "source": [
    "**Set operations**: The `set()` container comes especially handy when you need to deal with set operations, such as union, intersection, and so on."
   ]
  },
  {
   "cell_type": "code",
   "execution_count": 55,
   "metadata": {},
   "outputs": [
    {
     "name": "stdout",
     "output_type": "stream",
     "text": [
      "set([2, 3, 4, 5, 6, 7, 8])\n",
      "set([2])\n",
      "set([3, 5, 7])\n"
     ]
    }
   ],
   "source": [
    "# union\n",
    "print s1.union(s2)  # {2, 4, 6, 8} U {2, 3, 5, 7}\n",
    "\n",
    "# intersection\n",
    "print s1.intersection(s2)  # {2, 4, 6, 8} /\\ {2, 3, 5, 7}\n",
    "\n",
    "# set difference\n",
    "print s2.difference(s1)  # {2, 3, 5, 7} \\ {2, 4, 6, 8}"
   ]
  },
  {
   "cell_type": "markdown",
   "metadata": {},
   "source": [
    "## Functions\n",
    "To define a function in python, you can use `def` keyword. As an example, let's define `fibonacci()` function that generates the _fibonacci_ sequence of length `n`.\n",
    "By definition, the Fibonacci sequence is given by \n",
    "$$\n",
    "F_n = \n",
    "\\begin{cases}\n",
    "0 & \\mbox{ if $n=0$} \\\\\n",
    "1 & \\mbox{ if $n=1$} \\\\\n",
    "F_{n-1} + F_{n-2} & \\mbox{ if $n > 1$.}\n",
    "\\end{cases}\n",
    "$$\n",
    "\n"
   ]
  },
  {
   "cell_type": "code",
   "execution_count": 36,
   "metadata": {},
   "outputs": [
    {
     "name": "stdout",
     "output_type": "stream",
     "text": [
      "[0, 1, 1, 2, 3, 5, 8, 13, 21, 34, 55]\n"
     ]
    }
   ],
   "source": [
    "def fibonacci(n):\n",
    "    \"\"\"\n",
    "    Put your comment here. You comment should explain input parameters \n",
    "    and output of the function. For example,\n",
    "    \n",
    "    Parameters:\n",
    "    ------------\n",
    "    n : integer, the length of fibonacci sequence\n",
    "    \n",
    "    Output:\n",
    "    F : list, fibonacci sequence\n",
    "    \"\"\"\n",
    "    # it's good habit to validate input parameters\n",
    "    if n < 0:\n",
    "        print \"n must be a non-negative number!\"\n",
    "        \n",
    "    F = []  # container for the sequence       \n",
    "    F.append(0)  # F(0) = 0\n",
    "    \n",
    "    if n == 0:\n",
    "        return F\n",
    "    \n",
    "    F.append(1)  # F(1) = 0\n",
    "    \n",
    "    for i in range(n-1):\n",
    "        F.append(F[i]+F[i+1])       \n",
    "        \n",
    "    return F\n",
    "    \n",
    "print fibonacci(10)"
   ]
  },
  {
   "cell_type": "markdown",
   "metadata": {},
   "source": [
    "### Be careful with indentation!\n",
    "Leading spaces and tabs in python are used to determine the **indentation depth**, which in turn is used to determine the scope (or grouping) of statements.\n",
    "- For cross-platform compatibility, do _not_ mix space and tabs.\n",
    "- If you're using an editor, configure it to replace tabs with spaces."
   ]
  },
  {
   "cell_type": "markdown",
   "metadata": {},
   "source": [
    "## Numpy\n",
    "Numpy is the fundamental package designed for high performance scientific computing and data analysis. It provides:\n",
    "- `ndarray`, an efficient implementation of multi-dimensional array object providing _vectorized) arithmetic operations and _broadcasting_ capabilities\n",
    "- Linear algebra, for example, matrix multiplication, eigen value decomposition, SVD, and so on\n",
    "- Statistical tools for handling probability distributions\n",
    "- Random number generation\n",
    "To use numpy, start your code with the following import statement.\n",
    "```python\n",
    "import numpy as np\n",
    "```\n",
    "\n",
    "### Array\n",
    "Numpy array is an efficient container for large datasets in python that contains __homogeneous__ data, which means all the elments must be of the same type.\n",
    "\n",
    "**Creation**: There are two ways to create _ndarray_ object: create an empty array or create it from an existing array."
   ]
  },
  {
   "cell_type": "code",
   "execution_count": 2,
   "metadata": {},
   "outputs": [
    {
     "name": "stdout",
     "output_type": "stream",
     "text": [
      "[  0.00000000e+000   0.00000000e+000   0.00000000e+000   0.00000000e+000\n",
      "   0.00000000e+000   0.00000000e+000   0.00000000e+000   0.00000000e+000\n",
      "   0.00000000e+000   4.22764373e-307]\n",
      "\n",
      "2D array with shape (2L, 2L)\n",
      "[[ 0.  0.]\n",
      " [ 0.  0.]]\n",
      "[[[ 1.  1.  1.]\n",
      "  [ 1.  1.  1.]\n",
      "  [ 1.  1.  1.]]\n",
      "\n",
      " [[ 1.  1.  1.]\n",
      "  [ 1.  1.  1.]\n",
      "  [ 1.  1.  1.]]\n",
      "\n",
      " [[ 1.  1.  1.]\n",
      "  [ 1.  1.  1.]\n",
      "  [ 1.  1.  1.]]]\n",
      "[1 2 3 4 5 6]\n"
     ]
    }
   ],
   "source": [
    "import numpy as np\n",
    "\n",
    "arr1 = np.empty(10)  # create an empty 1d array of length 10\n",
    "print arr1          # it's created but not intialized\n",
    "# you should always intialize them before accessing them\n",
    "\n",
    "# create and intialize each entry with zero values\n",
    "arr2 = np.zeros((2, 2)) # 2d array of shape (2, 2)\n",
    "print \"\\n2D array with shape {}\".format(arr2.shape)\n",
    "print arr2\n",
    "\n",
    "# create and intialize with ones\n",
    "arr3 = np.ones((3, 3, 3)) \n",
    "print arr3\n",
    "\n",
    "# creating from an existing container\n",
    "mylist = [1, 2, 3, 4, 5, 6]\n",
    "myarray = np.array(mylist)\n",
    "print myarray"
   ]
  },
  {
   "cell_type": "markdown",
   "metadata": {},
   "source": [
    "**Slicing**: you can apply the slicing on a numpy array using a similar sytax to that of python's list."
   ]
  },
  {
   "cell_type": "code",
   "execution_count": 28,
   "metadata": {},
   "outputs": [
    {
     "name": "stdout",
     "output_type": "stream",
     "text": [
      "[4 5 6]\n",
      "6\n"
     ]
    }
   ],
   "source": [
    "# you can also use the slicing operator\n",
    "print myarray[3:]\n",
    "print myarray[-1]\n"
   ]
  },
  {
   "cell_type": "markdown",
   "metadata": {},
   "source": [
    "**Boolean indexing**: Suppose you want to select the entries satisfying a certain condition. If you express any arithmetic operations on numpy array, they are _vectorized_, meaning that each operation is propagated to each element. In the following example, the comparison operation is expressed between an array and a scalar. This operation is propagated to each element, and the result will be vectorized."
   ]
  },
  {
   "cell_type": "code",
   "execution_count": 35,
   "metadata": {},
   "outputs": [
    {
     "name": "stdout",
     "output_type": "stream",
     "text": [
      "[1 2 3 4 5 6]\n",
      "[False False  True  True  True  True]\n",
      "[3 4 5 6]\n",
      "[1 2 0 0 0 0]\n"
     ]
    }
   ],
   "source": [
    "# boolean indexing\n",
    "\n",
    "print myarray\n",
    "\n",
    "# if you want to access only the element greater than 2, you can express it as\n",
    "print myarray > 2\n",
    "\n",
    "# the result is a vector of booleans, and we can use this boolean array as indices\n",
    "print myarray[myarray > 2]\n",
    "\n",
    "# modifying only entries satisfying the condition\n",
    "myarray[myarray > 2] =0\n",
    "print myarray"
   ]
  },
  {
   "cell_type": "markdown",
   "metadata": {},
   "source": [
    "If you want to create an array having the same shape with an existing array, you can use `ones_like(), zeros_like(), empty_like()`."
   ]
  },
  {
   "cell_type": "code",
   "execution_count": 14,
   "metadata": {},
   "outputs": [
    {
     "name": "stdout",
     "output_type": "stream",
     "text": [
      "x has the shape (2L, 2L)\n",
      "y must have the same shape with x, (2L, 2L)\n"
     ]
    }
   ],
   "source": [
    "x = np.array([[1, 2], [3, 4]])\n",
    "print \"x has the shape\", x.shape\n",
    "\n",
    "y = np.zeros_like(x)\n",
    "print \"y must have the same shape with x,\", y.shape"
   ]
  },
  {
   "cell_type": "markdown",
   "metadata": {},
   "source": [
    "So far, we didn't specify data types when creating an array. By default, numpy will try to infer the type from the element, but it's safer to specify the type explicitly."
   ]
  },
  {
   "cell_type": "code",
   "execution_count": 40,
   "metadata": {},
   "outputs": [
    {
     "name": "stdout",
     "output_type": "stream",
     "text": [
      "guessed data type = int32\n",
      "[0 1 1 2 2]\n",
      "[ 0.5  1.   1.5  2.   2.5]\n"
     ]
    }
   ],
   "source": [
    "arr = np.array([1, 2, 3, 4, 5])  # didn't specify a type\n",
    "print \"guessed data type =\", arr.dtype\n",
    "\n",
    "# this can be problematic if you want to do arithmetic operations on them\n",
    "arr /= 2   # divide each element by 2 (what will be the result?)\n",
    "print arr       # the result is still integers\n",
    "\n",
    "# repeat the above but this time with type specified\n",
    "arr = np.array([1, 2, 3, 4, 5], dtype=np.float32)\n",
    "arr /= 2  # divide by 2\n",
    "print arr"
   ]
  },
  {
   "cell_type": "markdown",
   "metadata": {},
   "source": [
    "**Why using numpy arrays**: _ndarray _ is memory efficient and provides fast numerical operations. The following examples just create a sequence $\\{x^2: i=1, 2, \\ldots, 1000\\}$."
   ]
  },
  {
   "cell_type": "code",
   "execution_count": 41,
   "metadata": {},
   "outputs": [
    {
     "name": "stdout",
     "output_type": "stream",
     "text": [
      "10000 loops, best of 3: 50.5 µs per loop\n"
     ]
    }
   ],
   "source": [
    "# python's list\n",
    "a = range(1, 1001)\n",
    "%timeit [i**2 for i in a]"
   ]
  },
  {
   "cell_type": "code",
   "execution_count": 42,
   "metadata": {},
   "outputs": [
    {
     "name": "stdout",
     "output_type": "stream",
     "text": [
      "The slowest run took 19.18 times longer than the fastest. This could mean that an intermediate result is being cached.\n",
      "1000000 loops, best of 3: 1.22 µs per loop\n"
     ]
    }
   ],
   "source": [
    "# repeat the same using a numpy array\n",
    "a = np.arange(1, 1001)\n",
    "%timeit a**2"
   ]
  },
  {
   "cell_type": "markdown",
   "metadata": {},
   "source": [
    "### Saving and Loading Text Files"
   ]
  },
  {
   "cell_type": "markdown",
   "metadata": {},
   "source": [
    "A frequent task you will be doing throught the semester is to load data from text files. `pandas` package provides `read_csv()` and `read_table()` functions for easy loading of data from files. Numpy also provides `np.loadtxt()` function to load data directly into numpy array."
   ]
  },
  {
   "cell_type": "code",
   "execution_count": 39,
   "metadata": {},
   "outputs": [
    {
     "name": "stdout",
     "output_type": "stream",
     "text": [
      "[[-0.67611141 -1.5698873   0.38299264 -0.7411748   0.11465316]\n",
      " [-0.38078052  0.04184894  0.29092744 -2.64570359 -0.09299276]\n",
      " [ 0.37117245 -0.65356474 -1.0701138  -0.76556665  0.57906604]\n",
      " [ 1.41838606 -0.59220865  0.83774101 -0.07164601 -0.79642869]\n",
      " [-0.48396607 -0.27006211 -0.54521179  0.04887935  0.16654441]]\n",
      "[[-0.67611141 -1.5698873   0.38299264 -0.7411748   0.11465316]\n",
      " [-0.38078052  0.04184894  0.29092744 -2.64570359 -0.09299276]\n",
      " [ 0.37117245 -0.65356474 -1.0701138  -0.76556665  0.57906604]\n",
      " [ 1.41838606 -0.59220865  0.83774101 -0.07164601 -0.79642869]\n",
      " [-0.48396607 -0.27006211 -0.54521179  0.04887935  0.16654441]]\n"
     ]
    }
   ],
   "source": [
    "# generate a random data following Gaussian distribution\n",
    "x = np.random.randn(5, 5) \n",
    "print x\n",
    "# to save an numpy array into a text file\n",
    "np.savetxt('myarray.out', x, delimiter=',')\n",
    "\n",
    "# load the data from a text file \n",
    "y = np.loadtxt('myarray.out', delimiter=',')\n",
    "print y"
   ]
  },
  {
   "cell_type": "markdown",
   "metadata": {},
   "source": [
    "### Random Number Generation\n",
    "To generate random numbers, you can use `numpy.random` module. Here is a list of functions provided by the module (as always, refer to the python [documentation](https://docs.scipy.org/doc/numpy-1.13.0/reference/routines.random.html) for more details).\n",
    "\n",
    "|Function | Description|\n",
    "|:------:|:-----|\n",
    "|np.random.randn()|draw samples from a standard normal\n",
    "|np.random.rand() | draw samples from a uniform distribution|\n",
    "|np.random.binomial()| draw samples from a binomial distribution|\n",
    "|np.random.uniform() | draw samples from a uniform\\[0,1) distribution|\n",
    "|np.random.gamma() | draw samples from a gamma distribution|\n",
    "|np.random.shuffle() | randomly permute a sequence in place|\n",
    "|np.random.choice() | generate a random sample from an array|"
   ]
  },
  {
   "cell_type": "markdown",
   "metadata": {},
   "source": [
    "## Our first plot\n",
    "To check if the matplotlib is correctly installed, we will draw 10,000 random samples from the Gaussian distribution with mean 0 and standard deviation 1, i.e., standard normal distribution, and draw a histogram. If you are not sure what the following code is doing, don't worry; we will comeback to this again. You may want to play with this plot by changing the value of _nsamples_ and _nbins_."
   ]
  },
  {
   "cell_type": "code",
   "execution_count": 3,
   "metadata": {},
   "outputs": [
    {
     "data": {
      "image/png": "[encoded data removed]",
      "text/plain": [
       "<matplotlib.figure.Figure at 0x9270d30>"
      ]
     },
     "metadata": {},
     "output_type": "display_data"
    }
   ],
   "source": [
    "# you need to include this line to have the matplotlib diplay plots inline\n",
    "%matplotlib inline\n",
    "import matplotlib.pyplot as plt\n",
    "\n",
    "# draw 10,000 random samples from the standard normal distribution\n",
    "nsamples = 10000\n",
    "nbins = 20\n",
    "x = np.random.randn(nsamples)\n",
    "# build a histogram (number of bins = 20)\n",
    "bins, edges, patches = plt.hist(x, bins=nbins, facecolor='blue')\n",
    "\n",
    "plt.xlabel('x')\n",
    "plt.ylabel('Frequency')\n",
    "plt.grid(True)\n",
    "plt.show()"
   ]
  },
  {
   "cell_type": "markdown",
   "metadata": {},
   "source": [
    "### Q3. Write a function that simulates a (biased) coin flip.\n",
    "A biased coin flip can be modeled as a random variable that follows Bernoulli distribution. Let $X$ be a random varaible that takes the value of 1 if the coin flip ends with \"head\" and 0 otherwise. Mathematically, this can be written as $X \\sim \\mathsf{Bernoulli}(p)$, meaning\n",
    "$$\n",
    "X = \n",
    "\\begin{cases}\n",
    "1 & \\mbox{ with probability $p$} \\\\\n",
    "0 & \\mbox{ with probability $1-p$.}\n",
    "\\end{cases}\n",
    "$$"
   ]
  },
  {
   "cell_type": "code",
   "execution_count": 5,
   "metadata": {
    "collapsed": true
   },
   "outputs": [],
   "source": [
    "def coin_flip(p):\n",
    "    \"\"\"\n",
    "    This function simulates a biased coin flip. Generate a random number \n",
    "    from uniform[0, 1), and return 1 if the number is less than or equal to p \n",
    "    and 0  otherwise.\n",
    "    \n",
    "    Parameters\n",
    "    ---------------\n",
    "    p: float, probability of getting a head\n",
    "    \n",
    "    Returns\n",
    "    --------\n",
    "    X: bernoulli random variable (either 0 or 1)\n",
    "    \"\"\"\n",
    "    #######################\n",
    "    # your code goes here #\n",
    "    #######################\n",
    "    \n",
    "    return X"
   ]
  },
  {
   "cell_type": "code",
   "execution_count": 11,
   "metadata": {},
   "outputs": [
    {
     "name": "stdout",
     "output_type": "stream",
     "text": [
      "probability of getting head = 0.10\n"
     ]
    }
   ],
   "source": [
    "# we're going to throw this coin n times\n",
    "p = 0.3\n",
    "n = 10\n",
    "\n",
    "experiment = np.array([coin_flip(p) for i in range(n)])\n",
    "\n",
    "# how many heads did we have?\n",
    "n_head = np.count_nonzero(experiment == 1)\n",
    "print \"probability of getting head = {:.2f}\".format(float(n_head)/n)"
   ]
  },
  {
   "cell_type": "markdown",
   "metadata": {},
   "source": [
    "### What did we do?\n",
    "Our population (coin flips) is modeled by a Bernoulli random variable with the unknown parameter $p$, the probability of head. To estimate the the parameter $p$, we collected a random sample of size $n=10$ and estimated $p$ by simply counting number of heads and dividing it by $n$ (to make a probability). Is our estimate for $p$ close enough to the true value of 0.3? With $n=10$, probably our estimate is very inaccurate. Let's see what happens as we increase the sample size $n$."
   ]
  },
  {
   "cell_type": "code",
   "execution_count": 31,
   "metadata": {},
   "outputs": [
    {
     "data": {
      "text/plain": [
       "<matplotlib.legend.Legend at 0xd9b8ef0>"
      ]
     },
     "execution_count": 31,
     "metadata": {},
     "output_type": "execute_result"
    },
    {
     "data": {
      "image/png": "[encoded data removed]",
      "text/plain": [
       "<matplotlib.figure.Figure at 0xaea1f28>"
      ]
     },
     "metadata": {},
     "output_type": "display_data"
    }
   ],
   "source": [
    "sample_sizes = [10, 30, 50, 70, 100, 500, 1000, 5000, 10000, 20000, 50000]\n",
    "estimates = []\n",
    "\n",
    "# repeat the above procedure for different values of n\n",
    "for n in sample_sizes:\n",
    "    experiment = np.array([coin_flip(p) for i in range(n)])\n",
    "    n_head = np.count_nonzero(experiment == 1)\n",
    "    est_p = float(n_head) / n\n",
    "    estimates.append(est_p)\n",
    "    \n",
    "# draw a plot showing how our estimate changes as we increase the sample size\n",
    "plt.semilogx(sample_sizes, estimates, 'C0-', label='estimate')\n",
    "plt.axhline(p, c='C1', ls='--', label='true p')\n",
    "plt.xlabel('sample size (n)')\n",
    "plt.ylabel('Probability of heads')\n",
    "plt.legend(loc='best')"
   ]
  },
  {
   "cell_type": "markdown",
   "metadata": {},
   "source": [
    "Try executing this cell a few times! What do you observe?"
   ]
  },
  {
   "cell_type": "markdown",
   "metadata": {},
   "source": [
    "It is known that the sum of $n$ independent Bernoulli random variables follows a Binomial distribution. Formally, \n",
    "$$\n",
    "\\begin{equation}\n",
    "Y = X_1 + X_2 + \\cdots + X_n \\sim \\mathsf{Binomial}(n, p)\\,,\n",
    "\\end{equation}\n",
    "$$\n",
    "where $X_i \\sim \\mathsf{Bernoulli}(p)$ for $i=1, \\ldots, n$.\n",
    "\n",
    "### Q4. Simulate n coin flips t times and draw a histogram (5 pts).\n",
    "The `n_coin_flips()` function below returns a number of heads in $n$ coin flips, which follows a binomial distribution. That is, `n_head`$\\sim \\mathsf{Binomial}(n, p)$. To generate a sample of size $t$, run the `n_coin_flips()` function $t$ times and build a histogram on the sample. You can use `plt.hist()` to draw a histogram. For input parameters and outputs, see [here](https://matplotlib.org/api/_as_gen/matplotlib.pyplot.hist.html?highlight=matplotlib%20pyplot%20hist#matplotlib.pyplot.hist)."
   ]
  },
  {
   "cell_type": "code",
   "execution_count": 32,
   "metadata": {
    "collapsed": true
   },
   "outputs": [],
   "source": [
    "def n_coin_flips(n, p):\n",
    "    \"\"\"\n",
    "    Parameters:\n",
    "    ---------------------\n",
    "    n: int, number of coin flips\n",
    "    p: probability of getting head\n",
    "    \n",
    "    Returns\n",
    "    -----------------\n",
    "    n_head: int, number of heads\n",
    "    \"\"\"\n",
    "    experiment = np.array([coin_flip(p) for i in range(n)])\n",
    "    n_head = np.count_nonzero(experiment == 1)\n",
    "    \n",
    "    return n_head"
   ]
  },
  {
   "cell_type": "markdown",
   "metadata": {},
   "source": [
    "Here's the test code for your implemenation of `n_coin_flips()` function."
   ]
  },
  {
   "cell_type": "code",
   "execution_count": 55,
   "metadata": {},
   "outputs": [
    {
     "name": "stdout",
     "output_type": "stream",
     "text": [
      "sample_mean=2.934, analytical mean=3.000\n",
      "sample std.=1.47636, analytical std=1.44914\n"
     ]
    },
    {
     "data": {
      "text/plain": [
       "[<matplotlib.lines.Line2D at 0xeed9dd8>]"
      ]
     },
     "execution_count": 55,
     "metadata": {},
     "output_type": "execute_result"
    },
    {
     "data": {
      "image/png": "[encoded data removed]",
      "text/plain": [
       "<matplotlib.figure.Figure at 0x10376630>"
      ]
     },
     "metadata": {},
     "output_type": "display_data"
    }
   ],
   "source": [
    "# sample n_head t times\n",
    "t = 1000\n",
    "n = 10\n",
    "\n",
    "# run n_coin_flips() t times\n",
    "x = [n_coin_flips(n, p) for i in range(t)]\n",
    "\n",
    "# compute mean and standard deviation of x\n",
    "# for a list of statistical function in numpy, see \n",
    "# https://docs.scipy.org/doc/numpy-1.13.0/reference/routines.statistics.html\n",
    "x_mean =  ### Which numpy function does compute the mean of the elements in the given array?\n",
    "x_std =   ### Which numpy function can you use to compute their standard deviation?\n",
    "\n",
    "# Do they match with analytical solution?\n",
    "# FYI, when Y ~ binomial(n, p), its mean is np and variance is np(1-p).\n",
    "print \"sample_mean={:5.3f}, analytical mean={:5.3f}\".format(x_mean, n*p)\n",
    "print \"sample std.={:.5f}, analytical std={:.5f}\".format(x_std, np.sqrt(n*p*(1-p)))\n",
    "\n",
    "# your code for drawing a histogram goes here\n",
    "# set bins=8 and density=True\n",
    "\n",
    "# you can add an analytical pmf using the following code\n",
    "from scipy.stats import binom\n",
    "\n",
    "y = np.arange(8)\n",
    "pmf = binom.pmf(y, n, p)\n",
    "plt.plot(y, pmf)\n"
   ]
  },
  {
   "cell_type": "markdown",
   "metadata": {},
   "source": [
    "## Timeit\n",
    "When you are writing a program, you may wonder how fast or slow a particular piece of code is. _%timeit_ is a function for doing this.\n",
    "The following code shows 3 different ways to calculate the sum of squares of numbers in a list.\n",
    "$$\n",
    "SS = \\sum_{i=1}^n x[i]^2\n",
    "$$"
   ]
  },
  {
   "cell_type": "code",
   "execution_count": 17,
   "metadata": {},
   "outputs": [
    {
     "name": "stdout",
     "output_type": "stream",
     "text": [
      "func_A(x)= 42925\n",
      "func_B(x)= 42925\n",
      "func_C(x)= 42925\n",
      "100000 loops, best of 3: 12.8 µs per loop\n",
      "100000 loops, best of 3: 15.9 µs per loop\n",
      "The slowest run took 9.84 times longer than the fastest. This could mean that an intermediate result is being cached.\n",
      "100000 loops, best of 3: 2.57 µs per loop\n"
     ]
    }
   ],
   "source": [
    "def square(x):\n",
    "    return (x**2)\n",
    "\n",
    "def func_A(x):\n",
    "    n = len(x)\n",
    "    SS = 0\n",
    "    \n",
    "    for i in range(n):\n",
    "        SS += (x[i]*x[i])\n",
    "        \n",
    "    return SS\n",
    "\n",
    "def func_B(x):    \n",
    "    return sum(map(square, x))\n",
    "\n",
    "def func_C(x):\n",
    "    return np.sum(np.square(x))\n",
    "\n",
    "# create a list of length 100\n",
    "x = np.arange(1, 51)\n",
    "\n",
    "print \"func_A(x)=\", func_A(x)\n",
    "print \"func_B(x)=\", func_B(x)\n",
    "print \"func_C(x)=\", func_C(x)\n",
    "\n",
    "# now check which function is the fastest\n",
    "%timeit func_A(x)\n",
    "%timeit func_B(x)\n",
    "%timeit func_C(x)\n"
   ]
  }
 ],
 "metadata": {
  "kernelspec": {
   "display_name": "Python 2",
   "language": "python",
   "name": "python2"
  },
  "language_info": {
   "codemirror_mode": {
    "name": "ipython",
    "version": 2
   },
   "file_extension": ".py",
   "mimetype": "text/x-python",
   "name": "python",
   "nbconvert_exporter": "python",
   "pygments_lexer": "ipython2",
   "version": "2.7.13"
  },
  "name": "CSCI3360_HW0.ipynb"
 },
 "nbformat": 4,
 "nbformat_minor": 1
}
