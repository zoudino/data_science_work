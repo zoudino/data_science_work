{
 "cells": [
  {
   "cell_type": "markdown",
   "metadata": {},
   "source": [
    "# CSCI 3360 HW 4: Simple Sentiment Analysis\n",
    "In this assignment, we are going to do a sentiment analysis on the Amazon review dataset using a Naive Bayes model. The task of sentiment analysis involves lots of concepts and techniques from **natural language processing (NLP)**, but here we will use the simplest model and take very _naive_ approach.\n",
    "\n",
    "For this task, you will need to\n",
    "- prepare and clean text data,\n",
    "- preprocess the data to remove information irrelevant to our task,\n",
    "- extract feature vectors from review texts (using <font color=\"red\">bag-of-words </font>model), and\n",
    "- train a naive bayes model to classify positive and negative reviews\n",
    "\n",
    "## Submission instruction\n",
    "- Due by **<font color=\"red\">11:59pm on April. 12, 2018</font>**\n",
    "- Complete this notebook and submit it by the due date\n",
    "- Do not use any 3rd party libraries unless you are asked to do so.\n",
    "- Feel free to define your own functions if needed.\n",
    "- Do not hard-code any data-specific operations.\n",
    "\n",
    "We will use Natural Language ToolKit (**NLTK**) python package for tokenizing text, removing *stop words*, and stemming words. The official website of NLTK, [https://www.nltk.org/data.html](https://www.nltk.org/data.html), contains lots of useful information and code examples. If you want to know more about text mining and natural language processing, [here](http://www.nltk.org/book_1ed/)'s an online book about *natural language processing* in python.\n",
    "\n",
    "You can install *NLTK* using either `pip` or `conda`.\n",
    "```\n",
    "pip install nltk\n",
    "```\n",
    "or\n",
    "```\n",
    "conda install nltk\n",
    "```\n",
    "\n",
    "As always, let's start by importing the libraries required for our task."
   ]
  },
  {
   "cell_type": "code",
   "execution_count": 1,
   "metadata": {},
   "outputs": [],
   "source": [
    "%matplotlib inline\n",
    "\n",
    "import numpy as np\n",
    "import nltk\n",
    "import pandas as pd\n",
    "import matplotlib.pyplot as plt"
   ]
  },
  {
   "cell_type": "markdown",
   "metadata": {},
   "source": [
    "## Part 1. Preparing the Dataset\n",
    "\n",
    "For this assignment, we're going to use the amazon instant video review data, which can be downloaded from [here](http://cs.uga.edu/~jwlee/datasets/Amazon_Instant_Video_5.json). Your first task is to load the dataset (in .json format) into a pandas dataframe, and print out all the attributes. Note that the input dataset contains **a json object per line**.\n",
    "\n",
    "### Q1. Load the JSON objects in the dataset into a dataframe and display all the attributes (5 pts)."
   ]
  },
  {
   "cell_type": "code",
   "execution_count": 2,
   "metadata": {},
   "outputs": [
    {
     "name": "stdout",
     "output_type": "stream",
     "text": [
      "<class 'pandas.core.frame.DataFrame'>\n",
      "Int64Index: 37126 entries, 0 to 37125\n",
      "Data columns (total 9 columns):\n",
      "asin              37126 non-null object\n",
      "helpful           37126 non-null object\n",
      "overall           37126 non-null int64\n",
      "reviewText        37126 non-null object\n",
      "reviewTime        37126 non-null object\n",
      "reviewerID        37126 non-null object\n",
      "reviewerName      36797 non-null object\n",
      "summary           37126 non-null object\n",
      "unixReviewTime    37126 non-null int64\n",
      "dtypes: int64(2), object(7)\n",
      "memory usage: 2.8+ MB\n"
     ]
    }
   ],
   "source": [
    "# load the dataset into a dataframe\n",
    "dataset = pd.read_json(\"../Desktop/python/dataset/Amazon_Review.json\",lines=True)\n",
    "df =  pd.DataFrame(dataset)\n",
    "df.info()"
   ]
  },
  {
   "cell_type": "markdown",
   "metadata": {},
   "source": [
    "If you have successfuly loaded the dataset, as you can see above there are 37,126 reviews. Also, we notice that some of reviwers' name are missing. Among those attributes, we will only use two of them: **overall** and **reviewText**.\n",
    "\n",
    "Let's look at the first 5 rows (I assumed that you named your dataframe as `df`)."
   ]
  },
  {
   "cell_type": "code",
   "execution_count": 3,
   "metadata": {},
   "outputs": [
    {
     "data": {
      "text/html": [
       "<div>\n",
       "<style scoped>\n",
       "    .dataframe tbody tr th:only-of-type {\n",
       "        vertical-align: middle;\n",
       "    }\n",
       "\n",
       "    .dataframe tbody tr th {\n",
       "        vertical-align: top;\n",
       "    }\n",
       "\n",
       "    .dataframe thead th {\n",
       "        text-align: right;\n",
       "    }\n",
       "</style>\n",
       "<table border=\"1\" class=\"dataframe\">\n",
       "  <thead>\n",
       "    <tr style=\"text-align: right;\">\n",
       "      <th></th>\n",
       "      <th>asin</th>\n",
       "      <th>helpful</th>\n",
       "      <th>overall</th>\n",
       "      <th>reviewText</th>\n",
       "      <th>reviewTime</th>\n",
       "      <th>reviewerID</th>\n",
       "      <th>reviewerName</th>\n",
       "      <th>summary</th>\n",
       "      <th>unixReviewTime</th>\n",
       "    </tr>\n",
       "  </thead>\n",
       "  <tbody>\n",
       "    <tr>\n",
       "      <th>0</th>\n",
       "      <td>B000H00VBQ</td>\n",
       "      <td>[0, 0]</td>\n",
       "      <td>2</td>\n",
       "      <td>I had big expectations because I love English ...</td>\n",
       "      <td>05 3, 2014</td>\n",
       "      <td>A11N155CW1UV02</td>\n",
       "      <td>AdrianaM</td>\n",
       "      <td>A little bit boring for me</td>\n",
       "      <td>1399075200</td>\n",
       "    </tr>\n",
       "    <tr>\n",
       "      <th>1</th>\n",
       "      <td>B000H00VBQ</td>\n",
       "      <td>[0, 0]</td>\n",
       "      <td>5</td>\n",
       "      <td>I highly recommend this series. It is a must f...</td>\n",
       "      <td>09 3, 2012</td>\n",
       "      <td>A3BC8O2KCL29V2</td>\n",
       "      <td>Carol T</td>\n",
       "      <td>Excellent Grown Up TV</td>\n",
       "      <td>1346630400</td>\n",
       "    </tr>\n",
       "    <tr>\n",
       "      <th>2</th>\n",
       "      <td>B000H00VBQ</td>\n",
       "      <td>[0, 1]</td>\n",
       "      <td>1</td>\n",
       "      <td>This one is a real snoozer. Don't believe anyt...</td>\n",
       "      <td>10 16, 2013</td>\n",
       "      <td>A60D5HQFOTSOM</td>\n",
       "      <td>Daniel Cooper \"dancoopermedia\"</td>\n",
       "      <td>Way too boring for me</td>\n",
       "      <td>1381881600</td>\n",
       "    </tr>\n",
       "    <tr>\n",
       "      <th>3</th>\n",
       "      <td>B000H00VBQ</td>\n",
       "      <td>[0, 0]</td>\n",
       "      <td>4</td>\n",
       "      <td>Mysteries are interesting.  The tension betwee...</td>\n",
       "      <td>10 30, 2013</td>\n",
       "      <td>A1RJPIGRSNX4PW</td>\n",
       "      <td>J. Kaplan \"JJ\"</td>\n",
       "      <td>Robson Green is mesmerizing</td>\n",
       "      <td>1383091200</td>\n",
       "    </tr>\n",
       "    <tr>\n",
       "      <th>4</th>\n",
       "      <td>B000H00VBQ</td>\n",
       "      <td>[1, 1]</td>\n",
       "      <td>5</td>\n",
       "      <td>This show always is excellent, as far as briti...</td>\n",
       "      <td>02 11, 2009</td>\n",
       "      <td>A16XRPF40679KG</td>\n",
       "      <td>Michael Dobey</td>\n",
       "      <td>Robson green and great writing</td>\n",
       "      <td>1234310400</td>\n",
       "    </tr>\n",
       "  </tbody>\n",
       "</table>\n",
       "</div>"
      ],
      "text/plain": [
       "         asin helpful  overall  \\\n",
       "0  B000H00VBQ  [0, 0]        2   \n",
       "1  B000H00VBQ  [0, 0]        5   \n",
       "2  B000H00VBQ  [0, 1]        1   \n",
       "3  B000H00VBQ  [0, 0]        4   \n",
       "4  B000H00VBQ  [1, 1]        5   \n",
       "\n",
       "                                          reviewText   reviewTime  \\\n",
       "0  I had big expectations because I love English ...   05 3, 2014   \n",
       "1  I highly recommend this series. It is a must f...   09 3, 2012   \n",
       "2  This one is a real snoozer. Don't believe anyt...  10 16, 2013   \n",
       "3  Mysteries are interesting.  The tension betwee...  10 30, 2013   \n",
       "4  This show always is excellent, as far as briti...  02 11, 2009   \n",
       "\n",
       "       reviewerID                    reviewerName  \\\n",
       "0  A11N155CW1UV02                        AdrianaM   \n",
       "1  A3BC8O2KCL29V2                         Carol T   \n",
       "2   A60D5HQFOTSOM  Daniel Cooper \"dancoopermedia\"   \n",
       "3  A1RJPIGRSNX4PW                  J. Kaplan \"JJ\"   \n",
       "4  A16XRPF40679KG                   Michael Dobey   \n",
       "\n",
       "                          summary  unixReviewTime  \n",
       "0      A little bit boring for me      1399075200  \n",
       "1           Excellent Grown Up TV      1346630400  \n",
       "2           Way too boring for me      1381881600  \n",
       "3     Robson Green is mesmerizing      1383091200  \n",
       "4  Robson green and great writing      1234310400  "
      ]
     },
     "execution_count": 3,
     "metadata": {},
     "output_type": "execute_result"
    }
   ],
   "source": [
    "df.head()"
   ]
  },
  {
   "cell_type": "markdown",
   "metadata": {},
   "source": [
    "## Part 2: EDA\n",
    "\n",
    "Let's try to get more insight about the dataset we are dealing with. A natural question we may ask is \"is the overall rating related with the length of a review?\".\n",
    "\n",
    "### Q2. Draw a pie chart showing the distribution of overall ratings (10 pts)."
   ]
  },
  {
   "cell_type": "code",
   "execution_count": 4,
   "metadata": {},
   "outputs": [
    {
     "data": {
      "image/png": "[encoded data removed]",
      "text/plain": [
       "<matplotlib.figure.Figure at 0x108dcad50>"
      ]
     },
     "metadata": {},
     "output_type": "display_data"
    }
   ],
   "source": [
    "#########################\n",
    "#  Your code goes here  #\n",
    "#########################\n",
    "overall = df['overall'].value_counts()\n",
    "# now, we need to create a pie chart\n",
    "overall1 = np.array(overall)\n",
    "labels = 'Start5', 'Star4', 'Star3', 'Star2','Star1'\n",
    "sizes = overall1\n",
    "colors = ['gold', 'yellowgreen', 'lightcoral', 'lightskyblue', \"grey\"]\n",
    "explode = (0.1, 0, 0, 0, 0)  # explode 1st slice\\n\",\n",
    "plt.pie(sizes, explode=explode, labels=labels, colors=colors, autopct='%1.1f%%', shadow=True, startangle=140)\n",
    "plt.axis('equal')\n",
    "plt.show()\n",
    "\n"
   ]
  },
  {
   "cell_type": "markdown",
   "metadata": {},
   "source": [
    "### Q3. Draw histograms of review text lengths by class label (15 pts).\n",
    "+ add a column to show the length of each review\n",
    "+ add a column of labels \n",
    "    - if overall $\\geq$ 4, label='F' (Favorable)\n",
    "    - If overalll < 4, label='U' (Unfavorable)\n",
    "+ apply **[top-coding](https://en.wikipedia.org/wiki/Top-coded)** to review length column\n",
    "    - if legnth $\\geq$ 3000, clip the value to 3000 (i.e., upper-bound it)\n",
    "    - if length < 3000, use the value as it is."
   ]
  },
  {
   "cell_type": "code",
   "execution_count": 5,
   "metadata": {},
   "outputs": [],
   "source": [
    "\n",
    "#########################\n",
    "#  Your code goes here  #\n",
    "#########################\n",
    "# First Part:\n",
    "review_length = []\n",
    "for i in range(len(df['reviewText'])):\n",
    "    review_length.append(len(df['reviewText'][i].encode()))    \n",
    "df['reviewText_length'] = review_length\n",
    "Fav_unFav = []\n",
    "for a in range(len(df['overall'])):\n",
    "    if df['overall'][a] >= 4:\n",
    "        Fav_unFav.append('F')\n",
    "    elif df['overall'][a] < 4:\n",
    "        Fav_unFav.append('U')\n",
    "df['Fav_unFav'] = Fav_unFav\n",
    "   \n",
    "# Third Part:  \n",
    "for x in range(len(df['reviewText'])):\n",
    "    if df.loc[x,'reviewText_length'] >= 3000:\n",
    "        df.loc[x,'reviewText_length'] = 3000\n"
   ]
  },
  {
   "cell_type": "code",
   "execution_count": 6,
   "metadata": {},
   "outputs": [
    {
     "data": {
      "image/png": "[encoded data removed]",
      "text/plain": [
       "<matplotlib.figure.Figure at 0x1a1268ca90>"
      ]
     },
     "metadata": {},
     "output_type": "display_data"
    }
   ],
   "source": [
    "# Here is the data preparation\n",
    "dic = {\n",
    "       'length':df['reviewText_length'],\n",
    "       'F_U':df['Fav_unFav']\n",
    "    }\n",
    "dic1 = pd.DataFrame(dic)\n",
    "    # In this step, we need to subsetting data\n",
    "dic_U = []\n",
    "dic_U_length = []\n",
    "dic_F = []\n",
    "dic_F_length = []\n",
    "    \n",
    "for a in range(len(dic1)):\n",
    "    if dic1[\"F_U\"][a] == 'U':\n",
    "        dic_U.append(dic1[\"F_U\"][a])\n",
    "        dic_U_length.append(dic1[\"length\"][a])\n",
    "    elif dic1[\"F_U\"][a] == 'F':\n",
    "        dic_F.append(dic1[\"F_U\"][a])\n",
    "        dic_F_length.append(dic1[\"length\"][a])\n",
    "            \n",
    "dic_U = pd.DataFrame(dic_U)\n",
    "dic_U['length'] = dic_U_length\n",
    "dic_U.columns = ['F_U','length']\n",
    "    \n",
    "dic_F = pd.DataFrame(dic_F)\n",
    "dic_F['length'] = dic_F_length\n",
    "dic_F.columns = ['F_U','length']\n",
    "    \n",
    "    # Creating the histogram\\n\",\n",
    "plt.figure(num=None, figsize=(15, 5), dpi=80)\n",
    "    \n",
    "plt.subplot(1, 2, 1)\n",
    "plt.hist(dic_F[\"length\"])\n",
    "plt.title(\"F\")\n",
    "    \n",
    "plt.subplot(1, 2, 2)\n",
    "plt.hist(dic_U[\"length\"])\n",
    "plt.title(\"U\")\n",
    "plt.show()"
   ]
  },
  {
   "cell_type": "markdown",
   "metadata": {},
   "source": [
    "As you can see from the above figure, both favorable and unfavorable reviews have similar distributions in terms of the length.\n",
    "\n",
    "The *helpful* attribute represents the fraction of users who found the review helpful, e.g., 2/3. Let's see how the distribution of this helpfulness variable changes by the class label (F or U).\n",
    "\n",
    "### Q4. Draw a boxplot showing the distribution of helpfulness by class label (10 pts)."
   ]
  },
  {
   "cell_type": "code",
   "execution_count": 7,
   "metadata": {},
   "outputs": [],
   "source": [
    "df1 = df[['helpful','Fav_unFav']] # Those are the information we need to build the chart"
   ]
  },
  {
   "cell_type": "code",
   "execution_count": 8,
   "metadata": {},
   "outputs": [],
   "source": [
    "df1.is_copy = False   #This will take a long time to process \n",
    "c1 = 0\n",
    "c2 = 1\n",
    "for a in range(len(df1['helpful'])):\n",
    "    if df1['helpful'][a] == [0, 0]:\n",
    "        df1.loc[a,'helpful'] = 0.0 \n",
    "    else:\n",
    "        result = df1['helpful'][a][c1]/float(df1['helpful'][a][c2])\n",
    "        df1.loc[a,'helpful'] = result"
   ]
  },
  {
   "cell_type": "code",
   "execution_count": 9,
   "metadata": {},
   "outputs": [
    {
     "data": {
      "text/plain": [
       "<matplotlib.axes._subplots.AxesSubplot at 0x1a1d1489d0>"
      ]
     },
     "execution_count": 9,
     "metadata": {},
     "output_type": "execute_result"
    },
    {
     "data": {
      "image/png": "[encoded data removed]",
      "text/plain": [
       "<matplotlib.figure.Figure at 0x1a1d148d50>"
      ]
     },
     "metadata": {},
     "output_type": "display_data"
    }
   ],
   "source": [
    "df1.boxplot(column =\"helpful\", by='Fav_unFav',grid=False, figsize= (8,6))\n",
    "#Done "
   ]
  },
  {
   "cell_type": "markdown",
   "metadata": {},
   "source": [
    "- Draw the boxplot (5 pts).\n",
    "- Provide your interpretation on the above plot (5 pts)."
   ]
  },
  {
   "cell_type": "markdown",
   "metadata": {},
   "source": [
    "## Part 3. Feature Extraction (Bag-of-Words)\n",
    "\n",
    "Before extracting features, for simplicity, let's drop the columns we will not be using."
   ]
  },
  {
   "cell_type": "code",
   "execution_count": 10,
   "metadata": {},
   "outputs": [],
   "source": [
    "# remove all the columns except reviewText and overall\n",
    "df.drop('asin', axis=1, inplace=True)\n",
    "df.drop('helpful', axis=1, inplace=True)\n",
    "df.drop('reviewTime', axis=1, inplace=True)\n",
    "df.drop('reviewerID', axis=1, inplace=True)\n",
    "df.drop('reviewerName', axis=1, inplace=True)\n",
    "df.drop('summary', axis=1, inplace=True)\n",
    "df.drop('unixReviewTime', axis=1, inplace=True)"
   ]
  },
  {
   "cell_type": "markdown",
   "metadata": {},
   "source": [
    "For supervised learning, we need class labels $Y$.\n",
    "To get started, let's generate the label $Y_i$ for the $i^{\\mathrm{th}}$ review as follows:\n",
    "$$\n",
    "Y_i = \\begin{cases}\n",
    "0 & \\mbox{if overall < 4} \\\\\n",
    "1 & \\mbox{if overall $\\geq$ 4}\n",
    "\\end{cases}\n",
    "$$"
   ]
  },
  {
   "cell_type": "code",
   "execution_count": 11,
   "metadata": {},
   "outputs": [
    {
     "data": {
      "text/html": [
       "<div>\n",
       "<style scoped>\n",
       "    .dataframe tbody tr th:only-of-type {\n",
       "        vertical-align: middle;\n",
       "    }\n",
       "\n",
       "    .dataframe tbody tr th {\n",
       "        vertical-align: top;\n",
       "    }\n",
       "\n",
       "    .dataframe thead th {\n",
       "        text-align: right;\n",
       "    }\n",
       "</style>\n",
       "<table border=\"1\" class=\"dataframe\">\n",
       "  <thead>\n",
       "    <tr style=\"text-align: right;\">\n",
       "      <th></th>\n",
       "      <th>overall</th>\n",
       "      <th>reviewText</th>\n",
       "      <th>reviewText_length</th>\n",
       "      <th>Fav_unFav</th>\n",
       "      <th>label</th>\n",
       "    </tr>\n",
       "  </thead>\n",
       "  <tbody>\n",
       "    <tr>\n",
       "      <th>0</th>\n",
       "      <td>2</td>\n",
       "      <td>I had big expectations because I love English ...</td>\n",
       "      <td>159</td>\n",
       "      <td>U</td>\n",
       "      <td>0.0</td>\n",
       "    </tr>\n",
       "    <tr>\n",
       "      <th>1</th>\n",
       "      <td>5</td>\n",
       "      <td>I highly recommend this series. It is a must f...</td>\n",
       "      <td>186</td>\n",
       "      <td>F</td>\n",
       "      <td>1.0</td>\n",
       "    </tr>\n",
       "    <tr>\n",
       "      <th>2</th>\n",
       "      <td>1</td>\n",
       "      <td>This one is a real snoozer. Don't believe anyt...</td>\n",
       "      <td>134</td>\n",
       "      <td>U</td>\n",
       "      <td>0.0</td>\n",
       "    </tr>\n",
       "    <tr>\n",
       "      <th>3</th>\n",
       "      <td>4</td>\n",
       "      <td>Mysteries are interesting.  The tension betwee...</td>\n",
       "      <td>141</td>\n",
       "      <td>F</td>\n",
       "      <td>1.0</td>\n",
       "    </tr>\n",
       "    <tr>\n",
       "      <th>4</th>\n",
       "      <td>5</td>\n",
       "      <td>This show always is excellent, as far as briti...</td>\n",
       "      <td>1300</td>\n",
       "      <td>F</td>\n",
       "      <td>1.0</td>\n",
       "    </tr>\n",
       "  </tbody>\n",
       "</table>\n",
       "</div>"
      ],
      "text/plain": [
       "   overall                                         reviewText  \\\n",
       "0        2  I had big expectations because I love English ...   \n",
       "1        5  I highly recommend this series. It is a must f...   \n",
       "2        1  This one is a real snoozer. Don't believe anyt...   \n",
       "3        4  Mysteries are interesting.  The tension betwee...   \n",
       "4        5  This show always is excellent, as far as briti...   \n",
       "\n",
       "   reviewText_length Fav_unFav  label  \n",
       "0                159         U    0.0  \n",
       "1                186         F    1.0  \n",
       "2                134         U    0.0  \n",
       "3                141         F    1.0  \n",
       "4               1300         F    1.0  "
      ]
     },
     "execution_count": 11,
     "metadata": {},
     "output_type": "execute_result"
    }
   ],
   "source": [
    "# creating a label for each review in the dataset\n",
    "df.loc[df['overall'] >= 4, 'label'] = 1\n",
    "df.loc[df['overall'] < 4, 'label'] = 0\n",
    "df.head()"
   ]
  },
  {
   "cell_type": "markdown",
   "metadata": {},
   "source": [
    "Recall that in the bag-of-words representation each document (review) $d_i$ is expressed as a feature vector of length $|V|$, where $V$ is the vocabulary. That is, the $i^{\\text{th}}$ document $d_i$ is represented by\n",
    "$$ d_i = (f_{i1}, f_{i2}, \\ldots, f_{i|V|}),$$\n",
    "where $f_{i1}$ corresponds to the frequency of $i^{\\text{th}}$ word in $d_i$.\n",
    "We can __convert each review in your data to a feature vectors__ using scikit-learn's [CountVectorizer](http://scikit-learn.org/stable/modules/generated/sklearn.feature_extraction.text.CountVectorizer.html).   In `CountVectorizer`, you have an option to specify the vocabulary you would like to use for composing your feature vectors. If this is not specified, by default the `CountVectorizer` builds the vocabulary by including **all words** in the collection of documents. Let's try and see how many words there are.\n",
    "\n"
   ]
  },
  {
   "cell_type": "code",
   "execution_count": 12,
   "metadata": {},
   "outputs": [
    {
     "name": "stdout",
     "output_type": "stream",
     "text": [
      "The size of vocabulary V is 54045.\n"
     ]
    }
   ],
   "source": [
    "from sklearn.feature_extraction.text import CountVectorizer\n",
    "\n",
    "count_vect = CountVectorizer()\n",
    "count_vect.fit_transform(df['reviewText'])\n",
    "\n",
    "vocab = count_vect.vocabulary_\n",
    "\n",
    "print \"The size of vocabulary V is {0}.\".format(len(vocab))"
   ]
  },
  {
   "cell_type": "markdown",
   "metadata": {},
   "source": [
    "This means that we need a vector of length <font color=\"red\">**54,045**</font> to just represent a document (or a review) if we use **all words** in the dataset as our vocabulary. This is too many features, and let's try to reduce the size by removing irrelevant words from the vocabulary."
   ]
  },
  {
   "cell_type": "markdown",
   "metadata": {},
   "source": [
    "### Removing the stop words\n",
    "\n",
    "To remove the stop words, we will use the **natural language toolkit (NLTK)**. See [here](http://www.nltk.org) for details. There is a pre-defined list of stop words for english. You can load it using the following code. You may need to download the resource that contains the pre-defined stop words.\n",
    "\n",
    "```python\n",
    "import nltk\n",
    "\n",
    "nltk.download()\n",
    "```\n",
    "This will pop up a new window in which you can choose which collection to install."
   ]
  },
  {
   "cell_type": "code",
   "execution_count": 14,
   "metadata": {},
   "outputs": [],
   "source": [
    "import nltk\n",
    "from nltk.corpus import stopwords\n",
    "stop_words = set(stopwords.words('english'))"
   ]
  },
  {
   "cell_type": "markdown",
   "metadata": {},
   "source": [
    "### Q5. Do the following pre-processings (30 pts).\n",
    "- **Lowercase** the review texts (notice that all the stop words in NLTK's list is in lowercase)\n",
    "- Using the set of stop words defined in NLTK, filter out all the **stop words** in our review data. \n",
    "- Also, remove all words whose length is smaller than 3. See [here](https://pythonprogramming.net/stop-words-nltk-tutorial/) for how to remove stop words using nltk.\n",
    "- Apply the **Porter stemming** algorithm (See [here](https://pythonprogramming.net/stemming-nltk-tutorial/) for an example)"
   ]
  },
  {
   "cell_type": "code",
   "execution_count": 15,
   "metadata": {},
   "outputs": [],
   "source": [
    "###############################################\n",
    "#    Your code for pre-processing goes here   #\n",
    "###############################################\n",
    "\"\"\"I think I need to spend time on debuggin this part\"\"\"\n",
    "from nltk.tokenize import word_tokenize\n",
    "from nltk.stem import PorterStemmer\n",
    "df['reviewText'] = df['reviewText'].str.lower()\n",
    "ps = PorterStemmer()\n",
    "getit = []\n",
    "# Part2: filter out stop word\n",
    "for a in range(len(df['reviewText'])):\n",
    "    word_tokens = word_tokenize(df['reviewText'][a])\n",
    "    filtered_sentence = [w for w in word_tokens if not (w in stop_words) and (len(w) >= 3)] #\n",
    "    further_filtered_sentence = []\n",
    "# part3: stemming\n",
    "    for w in filtered_sentence:\n",
    "        further_filtered_sentence.append(ps.stem(w))\n",
    "    result = \" \".join(further_filtered_sentence)\n",
    "    getit.append(result)\n",
    "\n",
    "df['reviewText_filtered'] = getit\n"
   ]
  },
  {
   "cell_type": "markdown",
   "metadata": {},
   "source": [
    "Now let's build the feature vectors again and see how many words we have."
   ]
  },
  {
   "cell_type": "code",
   "execution_count": 20,
   "metadata": {},
   "outputs": [
    {
     "ename": "TypeError",
     "evalue": "object of type 'NoneType' has no len()",
     "output_type": "error",
     "traceback": [
      "\u001b[0;31m---------------------------------------------------------------------------\u001b[0m",
      "\u001b[0;31mTypeError\u001b[0m                                 Traceback (most recent call last)",
      "\u001b[0;32m<ipython-input-20-b728e6b95ace>\u001b[0m in \u001b[0;36m<module>\u001b[0;34m()\u001b[0m\n\u001b[1;32m      3\u001b[0m \u001b[0mvocab\u001b[0m \u001b[0;34m=\u001b[0m \u001b[0mcount_vect\u001b[0m\u001b[0;34m.\u001b[0m\u001b[0mvocabulary\u001b[0m\u001b[0;34m\u001b[0m\u001b[0m\n\u001b[1;32m      4\u001b[0m \u001b[0;34m\u001b[0m\u001b[0m\n\u001b[0;32m----> 5\u001b[0;31m \u001b[0;32mprint\u001b[0m \u001b[0;34m\"The size of vocabulary V (after the pre-processing) is {0}.\"\u001b[0m\u001b[0;34m.\u001b[0m\u001b[0mformat\u001b[0m\u001b[0;34m(\u001b[0m\u001b[0mlen\u001b[0m\u001b[0;34m(\u001b[0m\u001b[0mvocab\u001b[0m\u001b[0;34m)\u001b[0m\u001b[0;34m)\u001b[0m\u001b[0;34m\u001b[0m\u001b[0m\n\u001b[0m\u001b[1;32m      6\u001b[0m \u001b[0;31m# Question 5 is done.\u001b[0m\u001b[0;34m\u001b[0m\u001b[0;34m\u001b[0m\u001b[0m\n",
      "\u001b[0;31mTypeError\u001b[0m: object of type 'NoneType' has no len()"
     ]
    }
   ],
   "source": [
    "count_vect = CountVectorizer()\n",
    "count_vect.fit_transform(df['reviewText_filtered'])\n",
    "vocab = count_vect.vocabulary\n",
    "\n",
    "print \"The size of vocabulary V (after the pre-processing) is {0}.\".format(len(vocab))\n",
    "# Question 5 is done."
   ]
  },
  {
   "cell_type": "markdown",
   "metadata": {},
   "source": [
    "The size of vocabulary has been reduced a lot, but this is still too large! To reduce the size significantly, we will focus on the words that occurs frequently in the documents. How can we find the top $k$ most frequent words in our reviews? You can use `nltk.FreqDist` class for this purpose. See [here](http://www.nltk.org/book/ch01.html) for examples.\n",
    "\n",
    "### Q6. Write a function that returns a vocabulary consisting of frequent words (20 pts)."
   ]
  },
  {
   "cell_type": "code",
   "execution_count": 22,
   "metadata": {},
   "outputs": [],
   "source": [
    "from nltk import FreqDist\n",
    "from nltk.tokenize import word_tokenize\n",
    "def build_vocabulary(topk=3000):\n",
    "    \"\"\"\n",
    "    build a vocabulary using the top k most frequent words\n",
    "    \n",
    "    Parameters:\n",
    "    -------------\n",
    "    topk: int, the number of top k frequent words to include into the vocabulary\n",
    "    \n",
    "    Returns:\n",
    "    ---------\n",
    "    vocab: a dictionary (key=word, value=index)\n",
    "    \"\"\"\n",
    "    #########################\n",
    "    #  Your code goes here  #\n",
    "    #########################  \n",
    "    # This is working!! But it will take me about 1 hour to finish it -- too long!!!\n",
    "    fdist = FreqDist()\n",
    "    word_tokens_list = []\n",
    "    for a in range(len(df['reviewText_filtered'])):\n",
    "        word_tokens_list.extend(word_tokenize(df['reviewText_filtered'][a])) # the extend could combine [1,2] and [2,3] together to create a list of [1,2,2,3]\n",
    "    fdist1 = FreqDist(word_tokens_list)\n",
    "    vocab = fdist1.most_common(topk)\n",
    "    vocab = list(vocab)\n",
    "    vocab = [list(elem) for elem in vocab]\n",
    "    for a in range(3000):\n",
    "        vocab[a][1] = a\n",
    "    # After I change the value, I still need to change it back to tuple \n",
    "    vocab = [tuple(elem) for elem in vocab]\n",
    "    vocab = tuple(vocab)\n",
    "    \n",
    "    return vocab\n",
    "\n",
    "vocab = build_vocabulary()"
   ]
  },
  {
   "cell_type": "markdown",
   "metadata": {},
   "source": [
    "The above table shows the top 20 most frquent words in our review dataset. Now we are ready to build feature vectors using the vocabulary consisting of 3,000 frequent words."
   ]
  },
  {
   "cell_type": "code",
   "execution_count": 35,
   "metadata": {
    "scrolled": true
   },
   "outputs": [
    {
     "name": "stdout",
     "output_type": "stream",
     "text": [
      "X.shape= (37126, 3000)\n",
      "y.shape= (37126,)\n"
     ]
    }
   ],
   "source": [
    "count_vect = CountVectorizer(vocabulary=vocab) # This part is right\n",
    "X = count_vect.fit_transform(df['reviewText_filtered'])# Learn the vocabulary dictionary and return term-document matrix\n",
    "y = df.as_matrix(['label']).ravel()\n",
    "\n",
    "print \"X.shape=\", X.shape\n",
    "print \"y.shape=\", y.shape\n",
    "# Got some issue in this section.\n"
   ]
  },
  {
   "cell_type": "markdown",
   "metadata": {},
   "source": [
    "## Part 4. Text classification\n",
    "Now that we have feature vectors and labels, we can do text classification using the classifiers we learned in class. In this assignment, we will consider two classifiers, _naive bayes_ and _logistic regression_, and compare their performance. First, let's split the dataset into training and testing sets. Use the first 30,000 examples for training and 7,126 examples for testing."
   ]
  },
  {
   "cell_type": "code",
   "execution_count": 37,
   "metadata": {},
   "outputs": [],
   "source": [
    "from sklearn.model_selection import train_test_split\n",
    "# number of examples to use for training\n",
    "n_train = 30000\n",
    "X_train, y_train = X[:n_train, :], y[:n_train] # we got train dataset and test dataset \n",
    "X_test, y_test = X[n_train:, :], y[n_train:]"
   ]
  },
  {
   "cell_type": "markdown",
   "metadata": {},
   "source": [
    "###  Q7. Build the naive bayes and logistic regression classifiers on the training set (10 pts).\n",
    "- Print out both training and test accuracies."
   ]
  },
  {
   "cell_type": "code",
   "execution_count": 40,
   "metadata": {},
   "outputs": [
    {
     "name": "stdout",
     "output_type": "stream",
     "text": [
      "[ 1.  1.  1. ...,  1.  1.  1.]\n"
     ]
    }
   ],
   "source": [
    "from sklearn.naive_bayes import MultinomialNB\n",
    "\"\"\"\n",
    " 1.The following are Naive Baye regression \n",
    "\"\"\"\n",
    "naive = MultinomialNB()\n",
    "naive.fit(X_train, y_train)\n",
    "# training is done \n",
    "\n",
    "y_pred = naive.predict(X_train)\n",
    "\n",
    "y_pred_train "
   ]
  },
  {
   "cell_type": "code",
   "execution_count": 445,
   "metadata": {},
   "outputs": [
    {
     "name": "stdout",
     "output_type": "stream",
     "text": [
      "[ 1.  1.  1. ...,  1.  1.  1.]\n"
     ]
    }
   ],
   "source": [
    "print y_pred"
   ]
  },
  {
   "cell_type": "code",
   "execution_count": 456,
   "metadata": {},
   "outputs": [
    {
     "name": "stdout",
     "output_type": "stream",
     "text": [
      "The naive baye, train accuracy = 0.72523154645\n"
     ]
    }
   ],
   "source": [
    "\n",
    "y_pred = naive.predict(X_test)\n",
    "\n",
    "# possibly wrong \n",
    "a = 0\n",
    "for i in range(len(y_pred)):\n",
    "    if y_pred[i] == 1:\n",
    "        a = a +1\n",
    "# Total amount of 1 in y_test \n",
    "b = 0 \n",
    "for i in range(len(y_test)):\n",
    "    if y_test[i] == 1:\n",
    "        b = b +1 \n",
    "        \n",
    "\n",
    "print \"The naive baye, train accuracy = {}\".format(b/float(a))"
   ]
  },
  {
   "cell_type": "code",
   "execution_count": 442,
   "metadata": {},
   "outputs": [
    {
     "name": "stdout",
     "output_type": "stream",
     "text": [
      "The logistic regression, test accuracy = 0.72523154645\n",
      "The logistic regression, train accuracy = 0.8056\n"
     ]
    }
   ],
   "source": [
    "from sklearn.linear_model import LogisticRegression\n",
    "#########################\n",
    "#  Your code goes here  #\n",
    "#########################\n",
    "\"\"\"\n",
    "    2.The following are logistic regression \n",
    "\"\"\"\n",
    "classifier = LogisticRegression(random_state=0)\n",
    "classifier.fit(X_train, y_train)\n",
    "# Predicting the test set results\n",
    "y_pred = classifier.predict(X_test)\n",
    "\n",
    "# Total amount of 1 in y_pred\n",
    "a = 0\n",
    "for i in range(len(y_pred)):\n",
    "    if y_pred[i] == 1:\n",
    "        a = a +1\n",
    "# Total amount of 1 in y_test\n",
    "b = 0 \n",
    "for i in range(len(y_test)):\n",
    "    if y_test[i] == 1:\n",
    "        b = b +1     \n",
    "print \"The logistic regression, test accuracy = {}\".format(b/float(a))\n",
    " \n",
    "classifier.fit(X_test, y_test)\n",
    "# Predicting the test set results\n",
    "y_pred = classifier.predict(X_train) \n",
    "# Total amount of 1 in y_pred\n",
    "a = 0\n",
    "for i in range(len(y_pred)):\n",
    "    if y_pred[i] == 1:\n",
    "        a = a +1\n",
    "# Total amount of 1 in y_train\n",
    "b = 0 \n",
    "for i in range(len(y_train)):\n",
    "    \n",
    "    if y_train[i] == 1:\n",
    "        b = b +1\n",
    "        \n",
    "print \"The logistic regression, train accuracy = {}\".format(b/float(a))"
   ]
  },
  {
   "cell_type": "markdown",
   "metadata": {},
   "source": [
    "## TF-IDF Transform\n",
    "So far, we've been using the frequency of words in review data as our features, which may **overly emphasize** the importance of the words that appear frequently in both positive and negative reviews. For example, the word \"_show_\" is **not very informative** as it occurs frequently across all reviews. In <font color=\"red\">**TF-IDF**</font> model, a document's frequency is _reweighted_ by multiplying the inverse of its frequency across all documents. For more details, read [this article](https://en.wikipedia.org/wiki/Tf%E2%80%93idf).\n",
    "\n",
    "**Sklearn** provides an easy way to convert your feature vector of term freqeuncy into tf-idf vectors. [TfidfTransoformer](http://scikit-learn.org/stable/modules/generated/sklearn.feature_extraction.text.TfidfTransformer.html) transforms a count matrix to a normalized tf or tf-idf representation. \n",
    "\n",
    "### Q8. Apply the TF-IDF transform to your dataset and reperform the classification task you did in Q7 (15 pts).\n",
    "- Does this transform improve the _accuracy_ of your classifier?"
   ]
  },
  {
   "cell_type": "code",
   "execution_count": 426,
   "metadata": {},
   "outputs": [
    {
     "name": "stdout",
     "output_type": "stream",
     "text": [
      "The naive bayes, test accuracy = 0.72523154645\n",
      "The naive bayes, train accuracy = 0.8056\n"
     ]
    }
   ],
   "source": [
    "from sklearn.feature_extraction.text import TfidfTransformer\n",
    "from sklearn.naive_bayes import MultinomialNB\n",
    "\n",
    "#########################\n",
    "#  Your code goes here  #\n",
    "#########################\n",
    "\"\"\"\n",
    "     Using TF-IDF to solve the question!!\n",
    "     The following is the naive bayes part\n",
    "\"\"\"\n",
    "# Referenece file=\"http://scikit-learn.org/stable/tutorial/text_analytics/working_with_text_data.html\"\n",
    "tfidf_transformer = TfidfTransformer()\n",
    "X_train_tfidf = tfidf_transformer.fit_transform(X_train)# This part will do the transformation\n",
    "clf = LogisticRegression(random_state=0).fit(X_train_tfidf, y_train)\n",
    "y_pred = clf.predict(X_test)\n",
    "\n",
    "# Total amount of 1 in y_pred\n",
    "a = 0\n",
    "for i in range(len(y_pred)):\n",
    "    if y_pred[i] == 1:\n",
    "        a = a +1\n",
    "# Total amount of 1 in y_test\n",
    "b = 0 \n",
    "for i in range(len(y_test)):\n",
    "    if y_test[i] == 1:\n",
    "        b = b +1     \n",
    "print \"The naive bayes, test accuracy = {}\".format(b/float(a))\n",
    "\n",
    "X_test_tfidf = tfidf_transformer.fit_transform(X_test)# This part will do the transformation\n",
    "clf = LogisticRegression(random_state=0).fit(X_test_tfidf, y_test)\n",
    "y_pred = clf.predict(X_train)\n",
    "# Predicting the test set results\n",
    "y_pred = classifier.predict(X_train) \n",
    "# Total amount of 1 in y_pred\n",
    "a = 0\n",
    "for i in range(len(y_pred)):\n",
    "    if y_pred[i] == 1:\n",
    "        a = a +1\n",
    "# Total amount of 1 in y_train\n",
    "b = 0 \n",
    "for i in range(len(y_train)):\n",
    "    if y_train[i] == 1:\n",
    "        b = b +1\n",
    "        \n",
    "print \"The naive bayes, train accuracy = {}\".format(b/float(a))"
   ]
  },
  {
   "cell_type": "code",
   "execution_count": 427,
   "metadata": {},
   "outputs": [
    {
     "name": "stdout",
     "output_type": "stream",
     "text": [
      "The logistic regression, test accuracy = 0.72523154645\n",
      "The logistic regression, train accuracy = 0.8056\n"
     ]
    }
   ],
   "source": [
    "\"\"\"\n",
    "    The following is the logistic regression part \n",
    "\"\"\"\n",
    "\n",
    "X_train_tfidf = tfidf_transformer.fit_transform(X_train)# This part will do the transformation\n",
    "clf = MultinomialNB().fit(X_train_tfidf, y_train)\n",
    "y_pred = clf.predict(X_test)\n",
    "\n",
    "# Total amount of 1 in y_pred\n",
    "a = 0\n",
    "for i in range(len(y_pred)):\n",
    "    if y_pred[i] == 1:\n",
    "        a = a +1\n",
    "# Total amount of 1 in y_test\n",
    "b = 0 \n",
    "for i in range(len(y_test)):\n",
    "    if y_test[i] == 1:\n",
    "        b = b +1     \n",
    "print \"The logistic regression, test accuracy = {}\".format(b/float(a))\n",
    "\n",
    "X_test_tfidf = tfidf_transformer.fit_transform(X_test)# This part will do the transformation\n",
    "clf = MultinomialNB().fit(X_test_tfidf, y_test)\n",
    "y_pred = clf.predict(X_train)\n",
    "# Predicting the test set results\n",
    "y_pred = classifier.predict(X_train) \n",
    "# Total amount of 1 in y_pred\n",
    "a = 0\n",
    "for i in range(len(y_pred)):\n",
    "    if y_pred[i] == 1:\n",
    "        a = a +1\n",
    "# Total amount of 1 in y_train\n",
    "b = 0 \n",
    "for i in range(len(y_train)):\n",
    "    if y_train[i] == 1:\n",
    "        b = b +1\n",
    "        \n",
    "print \"The logistic regression, train accuracy = {}\".format(b/float(a))\n"
   ]
  },
  {
   "cell_type": "markdown",
   "metadata": {},
   "source": [
    "Now, let's do a simple test. The followings are the reviews on the movie, black panther, that had been copied from IMDB. Can the classifiers built using the Amazon instant video review dataset be used to predict the sentiment of IMDB reviews?"
   ]
  },
  {
   "cell_type": "code",
   "execution_count": 428,
   "metadata": {},
   "outputs": [
    {
     "name": "stdout",
     "output_type": "stream",
     "text": [
      "review 1 is a favorable review.\n",
      "review 2 is a favorable review.\n"
     ]
    }
   ],
   "source": [
    "black_panther_review1 = \"This movie should average a 7/10. Feels like Disney paid for 25,000 votes at 10/10. I had to rate it as only one star to help counter that 10/10 marketing flood nonsense. The movie is reasonable for discount theater days but for full price, I don\\'t think so. It relies heavily on silly conflict based on ignoring truth. There\\'s no reason to kill the king because his father killed your father if it was done out of defense. Also, what's a civilization with highly educated citizens, a higher sense of morality, and highly advanced technology doing with a duel to the death to be king thing still part of the culture? Shouldn't they have let go of that centuries ago? It feels to me like Marvel is starting to feel the profit suck of Disney. Make lots of okay movies and make lots of money for the parent company. Then again... that last Thor movie was quite good.\"\n",
    "black_panther_review2 = \"First off, Wakanda is a marvel. The people there are living in 2038 in terms of technology but ironically the world thinks it's a third world country. That sets the scene for the entire movie. The story is about how a young king seeks to right the wrongs of his father and his father before him. It's an intriguing story mixed with humor at just the right times. The music is fantastic and the costume is even more so. Great performances all around and Michael B. Jordan (Killmonger) totally nailed it. He was amazing. Drinking in the marvel that is Wakanda coupled with the amazing stunts makes the whole movie kinda short. On the whole this is a solid 10 /10 movie and congrats to the whole cast and crew.\"\n",
    "\n",
    "bp_review = [black_panther_review1, black_panther_review2]\n",
    "\n",
    "bp_X = count_vect.fit_transform(bp_review) \n",
    "for i, pred in enumerate(naive.predict(bp_X)):\n",
    "     print \"review {} is {} review.\".format(i+1, \"a favorable\" if pred==1 else \"an unfavorable\")"
   ]
  },
  {
   "cell_type": "markdown",
   "metadata": {},
   "source": [
    "Does the above prediction seem to be correct?\n",
    "- Yes, the prediction is correct. "
   ]
  }
 ],
 "metadata": {
  "anaconda-cloud": {},
  "kernelspec": {
   "display_name": "Python 2",
   "language": "python",
   "name": "python2"
  },
  "language_info": {
   "codemirror_mode": {
    "name": "ipython",
    "version": 2
   },
   "file_extension": ".py",
   "mimetype": "text/x-python",
   "name": "python",
   "nbconvert_exporter": "python",
   "pygments_lexer": "ipython2",
   "version": "2.7.13"
  }
 },
 "nbformat": 4,
 "nbformat_minor": 1
}
