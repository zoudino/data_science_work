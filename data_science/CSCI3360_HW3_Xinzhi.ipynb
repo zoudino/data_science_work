{
 "cells": [
  {
   "cell_type": "markdown",
   "metadata": {},
   "source": [
    "# CSCI 3360 HW 3: Binary Logistic Regression\n",
    "In this assignment, we will build and train a logistic regression model using a gradient descent algorithm. Here are some intructions you need to follow.\n",
    "\n",
    "## Submission instruction\n",
    "- Due by **<font color=\"red\">11:59pm on Mar. 26th, 2018</font>**\n",
    "- Complete this notebook and submit it by the due date\n",
    "- Do not use any 3rd party libraries unless you are asked to do so.\n",
    "- Feel free to define your own functions if needed.\n",
    "- Do not hard-code any data-specific operations.\n",
    "\n",
    "In this assignment, you will\n",
    "- load a dataset from a csv file and preprocess it for a machine learning task,\n",
    "- implement a function that computes the gradient of logistic regression model,\n",
    "- train a logistic regression model without using the scikit-learn package, and\n",
    "- plot training/test errors\n",
    "- Total points: 110\n",
    "\n",
    "First, let's import the required libraries."
   ]
  },
  {
   "cell_type": "code",
   "execution_count": 2,
   "metadata": {},
   "outputs": [
    {
     "name": "stdout",
     "output_type": "stream",
     "text": [
      "5\n"
     ]
    }
   ],
   "source": [
    "a = [2,3]\n",
    "a = sum(a)\n",
    "print a"
   ]
  },
  {
   "cell_type": "code",
   "execution_count": 119,
   "metadata": {},
   "outputs": [],
   "source": [
    "%matplotlib inline\n",
    "import math\n",
    "import numpy as np\n",
    "import matplotlib.pyplot as plt"
   ]
  },
  {
   "cell_type": "markdown",
   "metadata": {},
   "source": [
    "We will use the **mushroom data set** in libsvm data repository. You can download the data from [here](https://www.csie.ntu.edu.tw/~cjlin/libsvmtools/datasets/binary/mushrooms). The mushroom dataset contains 8124 examples and each example has <font color=\"red\">112</font> features. The dataset is stored in **libsvm** format. \n",
    "The input dataset is just a text file, where \n",
    "- each line corresponds to an observation,\n",
    "- each element is separated by a blank,\n",
    "- it doesn't store features with zero values,\n",
    "- the first element is a class label (a varaible to predict), and\n",
    "- the rest elements has the format of \"index:value\".\n",
    "\n",
    "As an example, let's consider the following two examples (with 5 features) in libsvm format.\n",
    "> 1 2:1 3:1\n",
    "\n",
    "> 2 1:1 5:1 \n",
    "\n",
    "The first example's label is 1 ($Y_1 = 1$) and its feature vector is $X_1=(0, 1, 1, 0, 0)$, i.e., it has non-zero entries at indices 2 and 3. Likewise, $Y_2 = 2$ and $X_2=(1, 0, 0, 0, 1)$. Fortunately, since the libsvm format is frequently used in machine learning practice, the function to load libsvm file is already implemented in `sklearn` package. Check the documentation of `load_svmlight_file()` from [here](http://scikit-learn.org/stable/modules/generated/sklearn.datasets.load_svmlight_file.html).\n",
    "\n",
    "# Part 1. Preparing the Dataset\n",
    "\n",
    "Download the data and store it in your local drive. The following code load the dataset into numpy arrays."
   ]
  },
  {
   "cell_type": "code",
   "execution_count": 120,
   "metadata": {},
   "outputs": [
    {
     "name": "stdout",
     "output_type": "stream",
     "text": [
      "X.shape=(8124, 112)\n",
      "len(y)= 8124\n",
      "labels= [ 1.  2.]\n",
      "8124\n",
      "[[ 0.  0.  0. ...,  0.  1.  0.]\n",
      " [ 0.  0.  0. ...,  0.  0.  0.]\n",
      " [ 0.  1.  0. ...,  0.  0.  0.]\n",
      " ..., \n",
      " [ 0.  0.  1. ...,  0.  0.  0.]\n",
      " [ 0.  0.  0. ...,  0.  0.  0.]\n",
      " [ 0.  0.  0. ...,  0.  0.  0.]]\n"
     ]
    }
   ],
   "source": [
    "from sklearn.datasets import load_svmlight_file\n",
    "\n",
    "X_sparse, y = load_svmlight_file('../Desktop/python/dataset/mushrooms.txt', n_features=112)\n",
    "\n",
    "# converting sparse array into a dense one\n",
    "X = np.zeros(X_sparse.shape)\n",
    "X_sparse.toarray(out=X)\n",
    "n, p = X.shape\n",
    "\n",
    "print \"X.shape=({}, {})\".format(n, p)\n",
    "print \"len(y)=\", len(y)\n",
    "print \"labels=\", np.unique(y)\n",
    "print len(y)\n",
    "print X\n"
   ]
  },
  {
   "cell_type": "markdown",
   "metadata": {},
   "source": [
    "As we talked in class, we can remove the bias term from the equation by adding a dummy column to the input dataset. In practice, we don't actually need to materialize this dummy column, but in here we will add it to keep the things simple. After adding a dummy column, you dataset will look like:\n",
    "$$ \\mathbf{X} = \n",
    "\\begin{pmatrix}\n",
    "1 & x_{11} & x_{12} & \\cdots & x_{1p} \\\\\n",
    "1 & x_{21} & x_{22} & \\cdots & x_{2p} \\\\\n",
    "\\vdots & \\vdots & \\vdots  & \\ddots & \\vdots \\\\\n",
    "1 & x_{n1} & x_{n2} & \\cdots & x_{np}\n",
    "\\end{pmatrix}\n",
    "$$\n",
    "\n",
    "### Q1. Augment the dataset by adding a dummy column of ones (5 pts).\n",
    "(**Hint**: use np.ones() and [np.hstack()](https://docs.scipy.org/doc/numpy/reference/generated/numpy.hstack.html))"
   ]
  },
  {
   "cell_type": "code",
   "execution_count": 121,
   "metadata": {},
   "outputs": [
    {
     "name": "stdout",
     "output_type": "stream",
     "text": [
      "[[ 1.  0.  0. ...,  0.  1.  0.]\n",
      " [ 1.  0.  0. ...,  0.  0.  0.]\n",
      " [ 1.  0.  1. ...,  0.  0.  0.]\n",
      " ..., \n",
      " [ 1.  0.  0. ...,  0.  0.  0.]\n",
      " [ 1.  0.  0. ...,  0.  0.  0.]\n",
      " [ 1.  0.  0. ...,  0.  0.  0.]]\n"
     ]
    }
   ],
   "source": [
    "######################################\n",
    "#         Your code goes here        #\n",
    "######################################\n",
    "X = np.hstack((np.ones((8124,1)),X))\n",
    "print X\n"
   ]
  },
  {
   "cell_type": "markdown",
   "metadata": {},
   "source": [
    "### Q2: Ensure that $Y \\in \\{-1, +1 \\}$ (5 pts).\n",
    "In simplified notation, it is assumed that $y_i \\in \\{-1, +1\\}$. To satisf this assumption, we will **map <font color=\"red\"> 1 to -1 and 2 to +1</font>**."
   ]
  },
  {
   "cell_type": "code",
   "execution_count": 122,
   "metadata": {},
   "outputs": [
    {
     "name": "stdout",
     "output_type": "stream",
     "text": [
      "labels= [-1.  1.]\n"
     ]
    }
   ],
   "source": [
    "######################################\n",
    "#         Your code goes here        #\n",
    "######################################\n",
    "for n in range(len(y)):\n",
    "    if y[n] == 1.0:\n",
    "        y[n] = -1\n",
    "    elif y[n] == 2.0:\n",
    "        y[n] = 1\n",
    "\n",
    "print \"labels=\", np.unique(y)\n",
    "\n",
    "\n",
    "# So, in here, we successfully changed the array."
   ]
  },
  {
   "cell_type": "markdown",
   "metadata": {},
   "source": [
    "We will use the 80% of examples for training and the remaining for testing."
   ]
  },
  {
   "cell_type": "code",
   "execution_count": 123,
   "metadata": {},
   "outputs": [],
   "source": [
    "from sklearn.model_selection import train_test_split\n",
    "\n",
    "X_train, X_test, y_train, y_test = train_test_split(X_new, y, test_size=0.2, random_state=1)\n",
    "\n"
   ]
  },
  {
   "cell_type": "markdown",
   "metadata": {},
   "source": [
    "## Part 2. Logistic Regression\n",
    "\n",
    "In class, we have seen that logistic regression model tries to learn the conditional probability using a sigmoid function:\n",
    "$$ \\Pr[Y = y_i~|~X=x_i] = \\sigma(y_i\\beta^\\intercal x_i) \\quad \\text{ for }i=1, \\ldots, n\\,. $$\n",
    "\n",
    "The maximum likelihood principle sugguests to minimize the following *empirical logistic loss*:\n",
    "$$ \\underset{\\mathbf{\\beta} \\in \\mathbb{R}^{p+1}}{\\text{minimize}}\\, \\frac{1}{n}\\sum_{i=1}^n \\log (1 + \\exp(-y_i\\mathbf{\\beta}^\\intercal\\mathbf{x}_i))\\,, $$\n",
    "and its gradient is given by\n",
    "$$ \\frac{\\partial \\ell(\\mathbf{\\beta})}{\\partial \\mathbf{\\beta}} = \\frac{1}{n}\\sum_{i=1}^n (1 - \\sigma(y_i\\mathbf{\\beta}^\\intercal\\mathbf{x}_i))y_i\\mathbf{x}_i\\,. $$\n",
    "One simple but powerful method you can use to solve the above optimization problem is **<font color=\"red\">gradient descent</font>** algorithm. Starting from an inital solution $\\beta^{(0)}$, it iteratively computes the *gradient* at the given location $\\beta^{(k)}$ and updates the solution as follows:\n",
    "$$\\beta^{(k+1)} = \\beta^{(k)} - \\eta \\nabla f(\\beta^{(k)})\\,,$$\n",
    "where\n",
    "- $\\beta^{(k)}$ denotes the parameter vector at iteration $k$,\n",
    "- $\\eta > 0$ is a constant step size, and \n",
    "- $\\nabla f(\\beta^{(k)})$ is the gradient of the objective function at $\\beta^{(k)}$.\n"
   ]
  },
  {
   "cell_type": "markdown",
   "metadata": {},
   "source": [
    "### Q3. Implement the objective function of logistic regression model (25 pts).\n",
    "Given a numpy array $\\beta$, the `logres_obj()` function should return \n",
    "$$ \\frac{1}{n}\\sum_{i=1}^n \\log(1 + \\exp(-y_i\\beta^\\intercal x_i))\\,.$$\n",
    "\n",
    "**<font color=\"red\">Hint</font>**: let \n",
    "$$ W = \\begin{pmatrix}\n",
    "w_{11} & w_{12} & w_{13} \\\\\n",
    "w_{21} & w_{22} & w_{23} \\\\\n",
    "w_{31} & w_{32} & w_{33} \\\\\n",
    "w_{41} & w_{42} & w_{43} \n",
    "\\end{pmatrix} \\in \\mathbb{R}^{4\\times 3}\\,,\\quad q = \\begin{pmatrix}\n",
    "q_1 \\\\ q_2 \\\\ q_3 \\\\ q_4 \\end{pmatrix} \\in \\mathbb{R}^{4\\times 1}\\,, \\quad \\text{ and } \\alpha = \n",
    "\\begin{pmatrix}\n",
    "\\alpha_1 \\\\ \\alpha_2 \\\\ \\alpha_3 \n",
    "\\end{pmatrix} \\in \\mathbb{R}^{3 \\times 1}.$$\n",
    "Then, we can compute $\\sum_{i=1}^4 \\alpha^\\intercal w_i = \\sum_{i=1}^4 w_i^\\intercal \\alpha$ as follows:\n",
    "$$\n",
    "\\sum_{i=1}^4 \\alpha^\\intercal w_i \n",
    "= \\text{np.sum}\\left\\{W \\alpha\\right\\}\n",
    "= \\text{np.sum}\\left\\{\n",
    "\\begin{pmatrix}\n",
    "\\alpha^\\intercal w_1 \\\\\n",
    "\\alpha^\\intercal w_2 \\\\\n",
    "\\alpha^\\intercal w_3 \\\\\n",
    "\\alpha^\\intercal w_4 \n",
    "\\end{pmatrix} \\right\\}\\,,\n",
    "$$\n",
    "where $w_i = (w_{i1}, w_{i2}, w_{i3})$, i.e, the $i^\\mathrm{th}$ row."
   ]
  },
  {
   "cell_type": "code",
   "execution_count": 124,
   "metadata": {},
   "outputs": [],
   "source": [
    "# ultimately, the value of y is the possibility of y. \n",
    "# So, when we injects a value inside the array, we will find out the value of y "
   ]
  },
  {
   "cell_type": "code",
   "execution_count": 125,
   "metadata": {},
   "outputs": [
    {
     "name": "stdout",
     "output_type": "stream",
     "text": [
      "164\n"
     ]
    }
   ],
   "source": [
    "W = np.array([[1, 2, 3], [4, 5, 6], [7, 8, 9], [10, 11, 12]])\n",
    "alpha = np.array([1, 2, 3])\n",
    "q = np.array([1, 2, 3, 4])\n",
    "\n",
    "sum_wa = np.sum(np.dot(W, alpha), axis=0) \n",
    "print sum_wa"
   ]
  },
  {
   "cell_type": "code",
   "execution_count": 126,
   "metadata": {},
   "outputs": [
    {
     "data": {
      "text/plain": [
       "10"
      ]
     },
     "execution_count": 126,
     "metadata": {},
     "output_type": "execute_result"
    }
   ],
   "source": [
    "np.sum(np.array([1,2,3,4]))"
   ]
  },
  {
   "cell_type": "markdown",
   "metadata": {},
   "source": [
    "If you want to compute $\\sum_{i=1}^4 \\log(\\alpha^\\intercal w_i)$, you can do \n",
    "$$\n",
    "\\sum_{i=1}^4 \\log\\alpha^\\intercal w_i \n",
    "= \\text{np.sum}\\left\\{\\text{np.log}(W \\alpha)\\right\\}\n",
    "= \\text{np.sum}\\left\\{\n",
    "\\begin{pmatrix}\n",
    "\\log \\alpha^\\intercal w_1 \\\\\n",
    "\\log\\alpha^\\intercal w_2 \\\\\n",
    "\\log\\alpha^\\intercal w_3 \\\\\n",
    "\\log\\alpha^\\intercal w_4 \n",
    "\\end{pmatrix}, axis=0 \\right\\}\\,,$$"
   ]
  },
  {
   "cell_type": "code",
   "execution_count": 127,
   "metadata": {},
   "outputs": [
    {
     "name": "stdout",
     "output_type": "stream",
     "text": [
      "14.236323943\n"
     ]
    }
   ],
   "source": [
    "log_wa = np.log(np.dot(W, alpha))\n",
    "print np.sum(log_wa, axis=0)\n",
    "\n",
    "# In here, professor is giving us the log version of it."
   ]
  },
  {
   "cell_type": "markdown",
   "metadata": {},
   "source": [
    "$$\\sum_{i=1}^4 w_i q_i = \\text{np.sum}\\left\\{ \n",
    "\\begin{pmatrix}\n",
    "q_1 \\cdot w_1 \\\\\n",
    "q_2 \\cdot w_2 \\\\\n",
    "q_3 \\cdot w_3 \\\\\n",
    "q_4 \\cdot w_4 \n",
    "\\end{pmatrix}, axis=0\\right\\}\\,.$$ Refer to the lecture slides on <font color=\"red\">numpy array broadcasting</font>."
   ]
  },
  {
   "cell_type": "code",
   "execution_count": 128,
   "metadata": {},
   "outputs": [
    {
     "name": "stdout",
     "output_type": "stream",
     "text": [
      "q.shape= (4,)\n",
      "q2d.shape= (1, 4)\n",
      "what is T = [[1]\n",
      " [2]\n",
      " [3]\n",
      " [4]]\n",
      "(after transpose) q2d.shape= (4, 1)\n"
     ]
    }
   ],
   "source": [
    "# Try to understand the intention in here\n",
    "\n",
    "\n",
    "print \"q.shape=\", q.shape # Initial shape in here.\n",
    "q2d = np.atleast_2d(q) # View inputs as arrays with at least two dimensions. \n",
    "print \"q2d.shape=\", q2d.shape\n",
    "q2d = q2d.T # it is used to transform our array \n",
    "print \"what is T = {}\".format(q2d)\n",
    "print \"(after transpose) q2d.shape=\", q2d.shape\n",
    "\n",
    "\n",
    " "
   ]
  },
  {
   "cell_type": "markdown",
   "metadata": {},
   "source": []
  },
  {
   "cell_type": "markdown",
   "metadata": {},
   "source": [
    "$$ \\frac{1}{n}\\sum_{i=1}^n \\log(1 + \\exp(-y_i\\beta^\\intercal x_i))\\,.$$"
   ]
  },
  {
   "cell_type": "code",
   "execution_count": 129,
   "metadata": {},
   "outputs": [],
   "source": [
    "def logres_obj(X, y, beta):\n",
    "    \"\"\"\n",
    "    returns the objective value of the logistic regression model\n",
    "    \n",
    "    Parameters:\n",
    "    ------------\n",
    "    X, y: numpy arrays representing the input dataset\n",
    "    beta: numpy array correspoinding to the parameter vector\n",
    "    Output:\n",
    "    -------\n",
    "    obj: objective value (scalar)\n",
    "    \"\"\"\n",
    "    ######################################\n",
    "    #         Your code goes here        #\n",
    "    ######################################\n",
    "    obj_result = 0\n",
    "    for a in range(len(X)):\n",
    "        scores = np.dot(beta.T,X[a] )\n",
    "        obj = np.sum(np.log(1 + np.exp(-scores*y[a])))\n",
    "        obj_result = obj_result + obj\n",
    "    \n",
    "    result = obj_result/n\n",
    "    return result\n"
   ]
  },
  {
   "cell_type": "code",
   "execution_count": 140,
   "metadata": {},
   "outputs": [
    {
     "name": "stdout",
     "output_type": "stream",
     "text": [
      "0.693232511987\n",
      "10.6059337686\n"
     ]
    }
   ],
   "source": [
    "beta = np.zeros(X.shape[1])\n",
    "print logres_obj(X, y, beta)\n",
    "beta = np.ones(X.shape[1])\n",
    "print logres_obj(X, y, beta)\n",
    "\n"
   ]
  },
  {
   "cell_type": "markdown",
   "metadata": {},
   "source": [
    "# Q4. Implement the function that returns the gradient of logistic regression model (35 pts).\n",
    "The `logres_grad()` function should return\n",
    "$$\\frac{1}{n}\\sum_{i=1}^n (\\sigma(y_i\\mathbf{\\beta}^\\intercal\\mathbf{x}_i)-1)y_i\\mathbf{x}_i \\,.$$\n",
    "\n",
    "Note that the output is a gradient (1D numpy array of length $p+1$). So the length of my array should have a length of 113 \n",
    "- You should carefully distinguish vectors from scalars.\n",
    "- Use the python's implementation of simoid function, `scipy.special.expit()` (check its documentation [here](https://docs.scipy.org/doc/scipy-0.14.0/reference/generated/scipy.special.expit.html))"
   ]
  },
  {
   "cell_type": "code",
   "execution_count": 132,
   "metadata": {},
   "outputs": [],
   "source": [
    "import scipy\n",
    "from scipy.special import expit\n",
    "def logres_grad(X, y, beta):\n",
    "    total = 0\n",
    "    for a in range(len(X)):\n",
    "        scores = np.dot(beta.T,X[a])\n",
    "        sig = scores * y[a]\n",
    "        sigmoid = scipy.special.expit(sig)\n",
    "        result = (sigmoid - 1) * y[a] * X[a]\n",
    "        total = total + result \n",
    "    return total/n "
   ]
  },
  {
   "cell_type": "markdown",
   "metadata": {},
   "source": [
    "### Q5. Gradient Descent Algorithm (20 points)\n",
    "Using the two functions `logres_obj()` and `logres_grad()`, implement the gradient descent algorithm. The core of gradient descent algorithm is $$\\beta^{(k+1)}=\\beta^{(k)}-\\eta\\nabla f(\\beta^{(k)})$$\n",
    "\n",
    "1. Initialize the $\\beta^{(0)} = (0, 0, \\ldots, 0)^\\intercal$.\n",
    "2. Use the fixed step size $\\eta=1.0$."
   ]
  },
  {
   "cell_type": "markdown",
   "metadata": {},
   "source": [
    "where\n",
    "- $\\beta^{(k)}$ denotes the parameter vector at iteration $k$,\n",
    "- $\\eta > 0$ is a constant step size, and \n",
    "- $\\nabla f(\\beta^{(k)})$ is the gradient of the objective function at $\\beta^{(k)}$."
   ]
  },
  {
   "cell_type": "code",
   "execution_count": 197,
   "metadata": {},
   "outputs": [],
   "source": [
    "\n",
    "\n",
    "def grad_desc(X, y, n_iter):\n",
    "\n",
    "    sol_path = []\n",
    "    obj_vals = [] \n",
    "    eta = 1.0\n",
    "    \n",
    "    ############################\n",
    "    #   your code goes here    #\n",
    "    ############################\n",
    "    b = np.zeros(X_new.shape[1])\n",
    "    sol_path.append(b)\n",
    "    \n",
    "    for a in range(n_iter):\n",
    "        sol_path.append(sol_path[a] - logres_grad(X, y, sol_path[a]))   \n",
    "        obj_vals.append(logres_obj(X,y,sol_path[a]))\n",
    "        \n",
    "    return sol_path, obj_vals\n",
    "\n",
    "\n",
    "  "
   ]
  },
  {
   "cell_type": "markdown",
   "metadata": {},
   "source": [
    "## Prediction\n",
    "Recall that in logistic regression we set \n",
    "$$ \\Pr(Y=1~|~X=x) = \\sigma(\\mathbf{\\beta}^\\intercal\\mathbf{x}). $$\n",
    "Our prediction will be\n",
    "$$\n",
    "Y = \\begin{cases}\n",
    "1 & \\mbox{ if $\\Pr[Y=1~|~X=x] \\geq 0.5$} \\\\\n",
    "-1 & \\mbox{ otherwise.}\n",
    "\\end{cases}\n",
    "$$\n",
    "Since the sigmoid function $\\sigma(x)$ is greater than or equal to 0.5 when $x\\geq 0$ (refer to the figure below), we will predict $Y=1$ when $\\mathrm{sign}(\\beta^\\intercal x)$ is positive.  "
   ]
  },
  {
   "cell_type": "code",
   "execution_count": 198,
   "metadata": {},
   "outputs": [
    {
     "data": {
      "text/plain": [
       "<matplotlib.legend.Legend at 0x1a19fc5e50>"
      ]
     },
     "execution_count": 198,
     "metadata": {},
     "output_type": "execute_result"
    },
    {
     "data": {
      "image/png": "[encoded data removed]",
      "text/plain": [
       "<matplotlib.figure.Figure at 0x1a1a0a3110>"
      ]
     },
     "metadata": {},
     "output_type": "display_data"
    }
   ],
   "source": [
    "x = np.linspace(-5, 5, 100)\n",
    "y_sig = expit(x)\n",
    "fig, ax = plt.subplots()\n",
    "ax.plot(x, y_sig, 'r-', label='sigmoid')\n",
    "ax.set_xlabel('x')\n",
    "ax.set_ylabel(r'$\\sigma(x)$')\n",
    "ax.legend()\n",
    "\n"
   ]
  },
  {
   "cell_type": "markdown",
   "metadata": {},
   "source": [
    "### Q6. Implement a function that predicts the labels for the given examples (10 pts)."
   ]
  },
  {
   "cell_type": "code",
   "execution_count": 199,
   "metadata": {},
   "outputs": [],
   "source": [
    "def sigmoid(X, y,beta):\n",
    "    obj = []\n",
    "    for a in range(len(X)):\n",
    "        scores = np.dot(beta.T,X[a] )\n",
    "        sig = scores * y[a]\n",
    "        sigmoid = scipy.special.expit(sig)\n",
    "        obj.append(sigmoid)\n",
    "    return obj\n",
    "\n",
    "        \n",
    "def predict(X, beta):\n",
    "    \"\"\"\n",
    "    predict the labels of observations in X\n",
    "    \n",
    "    Parameters:\n",
    "    ----------------\n",
    "    beta: coefficients\n",
    "    X: 2D numpy array, a set of observations, an example per row\n",
    "    \n",
    "    Returns:\n",
    "    y_hat: predicted labels    \n",
    "    \"\"\"\n",
    "    \n",
    "    ############################\n",
    "    #   your code goes here    #\n",
    "    ############################\n",
    "    # The idea is when the user inputs X and beta, the function should return the predicted value to the user\n",
    "    '''''Predict label using learned logistic regression parameters'''  \n",
    "    h = sigmoid(X, y, beta) # I defined a sigmoid function above\n",
    "    answer = []\n",
    "    for a in range(len(h)):\n",
    "        if h[a]>0.5:\n",
    "            answer.append(1)\n",
    "        elif h[a] <= 0.5:\n",
    "            answer.append(0)\n",
    "               \n",
    "    y_hat = answer\n",
    "    \n",
    "    \n",
    "   \n",
    "    return y_hat"
   ]
  },
  {
   "cell_type": "markdown",
   "metadata": {},
   "source": [
    "## Training\n",
    "\n",
    "Now we're ready to train the logistic regression model using our implementation of gradient descent."
   ]
  },
  {
   "cell_type": "code",
   "execution_count": 201,
   "metadata": {},
   "outputs": [],
   "source": [
    "n_iter = 500\n",
    "sols, objs = grad_desc(X_train, y_train, n_iter=n_iter)\n"
   ]
  },
  {
   "cell_type": "markdown",
   "metadata": {},
   "source": [
    "We have 500 elements in the array `sols`, and each element is an estimate of $\\beta$ (or solution) at iteration $k$. We can expect that the accuracy of $\\beta$ improves as $k$ increases.\n",
    "\n",
    "### Q7. Draw a plot that shows how the objective values change as we do more gradient descent updates (5 pts).\n",
    "In other words, x-axis = iteration number $k$ and y-axis = objective value at iteration $k$."
   ]
  },
  {
   "cell_type": "code",
   "execution_count": 209,
   "metadata": {},
   "outputs": [
    {
     "data": {
      "text/plain": [
       "<matplotlib.legend.Legend at 0x1a1887e3d0>"
      ]
     },
     "execution_count": 209,
     "metadata": {},
     "output_type": "execute_result"
    },
    {
     "data": {
      "image/png": "[encoded data removed]",
      "text/plain": [
       "<matplotlib.figure.Figure at 0x1a19b51e10>"
      ]
     },
     "metadata": {},
     "output_type": "display_data"
    }
   ],
   "source": [
    "############################\n",
    "#   your code goes here    #\n",
    "############################\n",
    "x = np.array(range(n_iter))\n",
    "y_line = objs\n",
    "fig, ax = plt.subplots()\n",
    "ax.plot(x, y_line, 'r-')\n",
    "ax.set_xlabel('Iteration')\n",
    "ax.set_ylabel('obj. val.')\n",
    "ax.legend()\n",
    "\n"
   ]
  },
  {
   "cell_type": "markdown",
   "metadata": {},
   "source": [
    "### Q8. Using the function `predict()` and estimates in `sols`, compute training and test errors (5 pts). \n",
    "- use 'red'solid line and 'blue' dotted line for training and testing, respectively.\n",
    "- set the figsize=(10, 6.5)"
   ]
  },
  {
   "cell_type": "code",
   "execution_count": 27,
   "metadata": {},
   "outputs": [
    {
     "data": {
      "text/plain": [
       "<matplotlib.text.Text at 0xd0a2f28>"
      ]
     },
     "execution_count": 27,
     "metadata": {},
     "output_type": "execute_result"
    },
    {
     "data": {
      "image/png": "[encoded data removed]",
      "text/plain": [
       "<matplotlib.figure.Figure at 0xd30e518>"
      ]
     },
     "metadata": {},
     "output_type": "display_data"
    }
   ],
   "source": [
    "def compute_accuracy(testX, testY, sols):\n",
    "    \"\"\"\n",
    "    returns the accuracy of each solution on the given dataset\n",
    "    \n",
    "    accuracy = percentage of correctly classified examples\n",
    "    \n",
    "    Parameters\n",
    "    -----------\n",
    "    testX, testY: input dataset\n",
    "    sols: a list of parameter vectors\n",
    "    \n",
    "    Returns\n",
    "    --------\n",
    "    acc: a list of accuracies, each element corresponds to the accuracy of each solution in sols\n",
    "    \"\"\"\n",
    "    acc = []\n",
    "    \n",
    "    n_examples = len(testY)\n",
    "    \n",
    "    for sol in sols:  \n",
    "        pred = predict(testX, sol)\n",
    "        n_correct = n_examples - np.count_nonzero(testY - pred)\n",
    "        acc.append((n_correct*100.0)/n_examples)\n",
    "        \n",
    "    return acc\n",
    "\n",
    "train_accs = compute_accuracy(X_train, y_train, sols)\n",
    "test_accs = compute_accuracy(X_test, y_test, sols)\n",
    "\n",
    "# plot the training/test errors against iterations\n",
    "# you need to have two series (or lines) in a single plot\n",
    "\n",
    "##########################\n",
    "#   Your code goes here  #\n",
    "##########################\n"
   ]
  }
 ],
 "metadata": {
  "anaconda-cloud": {},
  "kernelspec": {
   "display_name": "Python 2",
   "language": "python",
   "name": "python2"
  },
  "language_info": {
   "codemirror_mode": {
    "name": "ipython",
    "version": 2
   },
   "file_extension": ".py",
   "mimetype": "text/x-python",
   "name": "python",
   "nbconvert_exporter": "python",
   "pygments_lexer": "ipython2",
   "version": "2.7.13"
  }
 },
 "nbformat": 4,
 "nbformat_minor": 1
}
