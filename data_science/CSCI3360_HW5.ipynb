{
 "cells": [
  {
   "cell_type": "markdown",
   "metadata": {},
   "source": [
    "# CSCI 3360 : Handwritten Digit Data Clustering\n",
    "In this assignment, we are going to apply $k$-means clustering method to the handwritten digit dataset, called **MNIST**, to group similar images of digits together. The mnist dataset contains $28\\times 28$ pixel images of handwritten digits 0 through 9. The training set and test set contain 60,000 and 10,000 examples, respectively.\n",
    "\n",
    "## Submission instruction\n",
    "- Due by 11:59pm on **April 28th, 2018**\n",
    "- Complete this notebook and submit it by the due date\n",
    "- Do not use any 3rd party libraries unless you are asked to do so.\n",
    "- Feel free to define your own functions if needed.\n",
    "\n",
    "\n",
    "## Task 0: load the mnist dataset\n",
    "First, you can download the dataset from [here](http://yann.lecun.com/exdb/mnist/). Visit the website and download the four files:\n",
    "- train-images-idx3-ubyte\n",
    "- train-labels-idx1-ubyte\n",
    "- t10k-images-idx3-ubyte\n",
    "- t10k-labels-idx1-ubyte\n",
    "\n",
    "You can use the following code to load the MNIST data. It is assumed that you downloaded (or copied) all the files to the same directory where this ipython notebook file is located. Probably, it is going to take longer than the files you tried in the past assignment."
   ]
  },
  {
   "cell_type": "code",
   "execution_count": 1,
   "metadata": {},
   "outputs": [],
   "source": [
    "%matplotlib inline\n",
    "import numpy as np\n",
    "import matplotlib.pyplot as plt\n",
    "import struct\n",
    "import os\n",
    "import math"
   ]
  },
  {
   "cell_type": "code",
   "execution_count": 2,
   "metadata": {},
   "outputs": [],
   "source": [
    "def load_data(dataset=\"train\", path=\"../Desktop/python/hw5\"):\n",
    "    \"\"\"\n",
    "    Parameters:\n",
    "    ------------\n",
    "      - dataset: a string either 'train' or 'test'\n",
    "      - path: path to the directory where data files exist\n",
    "      \n",
    "    Returns:\n",
    "      - X, y: paired (features, labels) dataset\n",
    "    \"\"\"\n",
    "    if dataset == \"train\":\n",
    "        fname_img = os.path.join(path, 'train-images-idx3-ubyte')\n",
    "        fname_lbl = os.path.join(path, 'train-labels-idx1-ubyte')\n",
    "    elif dataset == \"test\":\n",
    "        fname_img = os.path.join(path, 't10k-images-idx3-ubyte')\n",
    "        fname_lbl = os.path.join(path, 't10k-labels-idx1-ubyte')\n",
    "    else:\n",
    "        raise ValueError(\"dataset must be either 'test' or 'train'\")\n",
    "    \n",
    "    # load features\n",
    "    fimg = open(fname_img, 'rb')\n",
    "    magic,size = struct.unpack('>ii', fimg.read(8))\n",
    "    sx,sy = struct.unpack('>ii', fimg.read(8))\n",
    "    img = []\n",
    "    for i in range(size):\n",
    "        im =  struct.unpack('B'*(sx*sy), fimg.read(sx*sy))\n",
    "        img.append([float(x)/255.0 for x in im])\n",
    "    \n",
    "    fimg.close()\n",
    "    X = np.array(img)\n",
    "    \n",
    "    # load labels\n",
    "    flbl = open(fname_lbl, 'rb')\n",
    "    magic,size = struct.unpack('>ii', flbl.read(8))\n",
    "    lbl = struct.unpack('B'*size, flbl.read(size))\n",
    "    \n",
    "    flbl.close()\n",
    "    y = np.array(lbl)\n",
    "    \n",
    "    return X, y"
   ]
  },
  {
   "cell_type": "code",
   "execution_count": 3,
   "metadata": {},
   "outputs": [],
   "source": [
    "# load the dataset\n",
    "X_train, y_train = load_data(\"train\")\n",
    "X_test, y_test = load_data(\"test\")"
   ]
  },
  {
   "cell_type": "code",
   "execution_count": 4,
   "metadata": {},
   "outputs": [
    {
     "name": "stdout",
     "output_type": "stream",
     "text": [
      "training set of size  (60000, 784)\n",
      "test set of size  (10000, 784)\n"
     ]
    }
   ],
   "source": [
    "print \"training set of size \", X_train.shape\n",
    "print \"test set of size \", X_test.shape"
   ]
  },
  {
   "cell_type": "markdown",
   "metadata": {},
   "source": [
    "## Further Understand the MNIST dataset\n",
    "For every digit, each pixel can be represented as an integer in the range [0,255] where 0 corresponds to the pixel being completely white, and 255 corresponds to the pixel being completely black"
   ]
  },
  {
   "cell_type": "markdown",
   "metadata": {},
   "source": [
    "After loading the dataset, you can use the following code to display some examples in the data."
   ]
  },
  {
   "cell_type": "code",
   "execution_count": 5,
   "metadata": {},
   "outputs": [],
   "source": [
    "def plot_digit(digit, label):\n",
    "    \"\"\" \n",
    "    Display an image of digit\n",
    "    Parameters\n",
    "    ------------------\n",
    "     - digit: numpy array of length 28 x 28 = 784\n",
    "     - label: an integer corresponding to the label\n",
    "    \"\"\"\n",
    "    \n",
    "    image = digit.reshape(28, 28)\n",
    "    plt.figure()\n",
    "    plt.imshow(image, cmap='gray_r', interpolation='nearest')\n",
    "    plt.xticks(())\n",
    "    plt.yticks(())\n",
    "    \n",
    "    plt.title(\"Label: \" + str(label))"
   ]
  },
  {
   "cell_type": "code",
   "execution_count": 6,
   "metadata": {},
   "outputs": [
    {
     "data": {
      "image/png": "[encoded data removed]",
      "text/plain": [
       "<matplotlib.figure.Figure at 0x10c36e350>"
      ]
     },
     "metadata": {},
     "output_type": "display_data"
    }
   ],
   "source": [
    "plot_digit(X_train[0], y_train[0])"
   ]
  },
  {
   "cell_type": "markdown",
   "metadata": {},
   "source": [
    "## Task 1: implement k-means algorithm (60 pts)\n",
    "Now, we are ready to implement our k-means algorithm. Please recall that k-means consists of two steps. At each iteration, the algorithm\n",
    "- assigns the data points to its nearest cluster centroid and then \n",
    "- updates cluster centroids based on the new assignment.\n",
    "\n",
    "We can measure the goodness of the given clustering by computing **within-cluster-sum-of-squares (WCSS)**, which is defined as:\n",
    "$$\n",
    "\\text{WCSS}(C) = \\sum_{i=1}^K \\sum_{x \\in C_i} \\| x - \\mu_i\\|^2\\,,\n",
    "$$\n",
    "where $\\mu_i$ is the center of $i^{\\text{th}}$ cluster $C_i$.\n",
    "\n",
    "Implement the $k$-means algorithm using the following template. Feel free to add more member functions if you need."
   ]
  },
  {
   "cell_type": "code",
   "execution_count": 51,
   "metadata": {},
   "outputs": [],
   "source": [
    "from random import *\n",
    "class MyKMeans:\n",
    "    def __init__(self, k):  # This is an the starting point for the algorithm \n",
    "        \"\"\"\n",
    "        Parameters:\n",
    "          - k: number of partitions (or clusters) # How many cluster we want to generate into our dataset.\n",
    "          __init__ is a special method in Python classes, it is the constructor method for a class. \n",
    "          It is equivalent to the constructor in the java\n",
    "        \"\"\"\n",
    "        self.K = k\n",
    "        self.centers = None\n",
    "        self.record_y = None\n",
    "        # right\n",
    "        \n",
    "    def initialize_centers(self, k, dim):\n",
    "        \"\"\" \n",
    "        initialize the k-centeroids (self.centers) with randomly chosen points # The k- centeroids is randomly set up by the users.\n",
    "        Parameters:\n",
    "         - k : number of clusters\n",
    "         - dim: dimensionality of each centroid\n",
    "        \"\"\"\n",
    "\n",
    "        self.centers = np.random.rand(k,dim) # In here, we have created a list.\n",
    "        pass  # It is useful as a placeholder when a statement is required syntactically, but no code needs to be executed\n",
    "        # right, right\n",
    "        \n",
    "    def assign_points(self, X):\n",
    "        \"\"\" \n",
    "        This function assigns data points to their nearest centroids.\n",
    "        \n",
    "        Parameters:\n",
    "         - X: 2D array of examples, each row is an example.\n",
    "        \n",
    "        returns:\n",
    "         - assignment: a list of cluster assignment. Each element in this list corresponds to \n",
    "                  the index of cluster to which the given data point is assigned.\n",
    "                  For example, labels=[0, 1, 1, ...] means that the first example in X was\n",
    "                  assigned to the first cluster, the second example to the 2nd cluster, and \n",
    "                  so on.\n",
    "        \"\"\"\n",
    "        assignment = []\n",
    "        for i in range(len(X)):\n",
    "            nearest = []\n",
    "            for x in range(len(self.centers)):  \n",
    "                dist = np.linalg.norm(X[i] - self.centers[x])\n",
    "                nearest.append(dist) \n",
    "            index = np.argmin(nearest) # quickly returning the index of min value in a list \n",
    "            assignment.append(index) # append the points to the centroids\n",
    "        return assignment\n",
    "        # Now, I got a list \n",
    "        pass\n",
    "    \n",
    "    def update_mean(self, X, assignment):\n",
    "        \"\"\" \n",
    "        Given the current cluster assignment, this function recomputes the mean (the centroid) of \n",
    "        each cluster.\n",
    "        Parameters:\n",
    "         - X: 2D array of examples\n",
    "        - assignment: cluster assignment for all examples  \n",
    "         \"\"\"   \n",
    "        mean_list = []\n",
    "        for z in range(len(self.centers)):\n",
    "            num = 0\n",
    "            sum_ = 0\n",
    "            mean = 0\n",
    "            for n in range(len(assignment)):\n",
    "                if z == assignment[n]:\n",
    "                    sum_ += X[n]\n",
    "                    num += 1\n",
    "            if num != 0:\n",
    "                mean = sum_ / num               \n",
    "            mean_list.append(mean)\n",
    "        self.centers = mean_list\n",
    "            # the mean_list includes all the new_mean\n",
    "            # right\n",
    "        pass\n",
    "    \n",
    "    # Taking 1 - 2hours \n",
    "    def compute_WCSS(self, X):  \n",
    "        \"\"\"\n",
    "        compute the within-cluster-sum-of-squares\n",
    "        \n",
    "        Parameters:\n",
    "         - X: 2D array of examples\n",
    "         \n",
    "        Retrurn:\n",
    "         - wcss: a real number\n",
    "        \"\"\"\n",
    "        # trying to improve efficiency\n",
    "        sum_ = 0\n",
    "        wcss = []\n",
    "        for x in range(len(self.centers)):\n",
    "            for n in range(len(X)):\n",
    "                number = np.linalg.norm(X[n] - self.centers[x]) ** 2\n",
    "                sum_ += number \n",
    "            wcss.append(sum_)\n",
    "        #for the final result, I need to sum up the array\n",
    "        wcss = sum(wcss)\n",
    "        return wcss # I think this function is right\n",
    "        \n",
    "        pass\n",
    "    \n",
    "    def fit(self, X, max_iter=3):\n",
    "        \"\"\" \n",
    "        trains the k-means model using the given dataset. This function will call assign_points()\n",
    "        and update_mean() functions in a loop\n",
    "        \n",
    "        Parameters\n",
    "        ------------\n",
    "        - X: 2D numpy array, each row represents an example\n",
    "        - max_iter: an integer, maximum number of iterations to run\n",
    "                \n",
    "        \"\"\"\n",
    "        for x in range(max_iter):\n",
    "            self.update_mean(X, self.assign_points(X) ) # then we calculate the mean the centroids went back to original. \n",
    "        # The purpose of this function is to stablelized the cluster\n",
    "        # It seems like I got it right      \n",
    "        pass\n"
   ]
  },
  {
   "cell_type": "markdown",
   "metadata": {
    "collapsed": true
   },
   "source": [
    "Using the k-means algorithm you implemented above, we can cluster images of digits into $k$-groups. Obviously, we have 10 clusters (or classes), but we are going to set $k$ greater than 10 (for example, let's say $k=15$). (why?)\n",
    "\n",
    "## Task 2: Run k-means and Visualize the centroids (20 pts)\n",
    "Run the k-means algorithm 10 times (with different intializations) and choose the one with the smallest WCSS. Visualize the $k$-centroids. Note that the centroid is average of images in that cluser, which is still a image but it will be blurry due to the averaging."
   ]
  },
  {
   "cell_type": "code",
   "execution_count": 52,
   "metadata": {},
   "outputs": [],
   "source": [
    "# run k-means 10 times and choose the one that gives you the best results, i.e.,\n",
    "# one with the smallest WCSS\n",
    "#------------------------------#\n",
    "#  Your code goes here         #\n",
    "#------------------------------#\n",
    "\n",
    "# First Part:\n",
    "k = 15\n",
    "km = MyKMeans(k) # This will run the kmean class by passing a value k=15\n",
    "# Get the dimensionality \n",
    "dim = X_train[0].shape\n",
    "dim = dim[0]\n",
    "km.initialize_centers( k,dim)\n",
    "# Initialize centers. We don't need to insert any self"
   ]
  },
  {
   "cell_type": "code",
   "execution_count": 53,
   "metadata": {},
   "outputs": [],
   "source": [
    "km.fit(X_train, 20)  #  About 5 mins for 1. "
   ]
  },
  {
   "cell_type": "code",
   "execution_count": 393,
   "metadata": {},
   "outputs": [
    {
     "name": "stdout",
     "output_type": "stream",
     "text": [
      "[1760411777.7960923, 1747740704.6091764, 1792186822.3033907, 1762280067.3067458, 1772301763.3731947, 1746541145.0101554, 1769449466.4241297, 1773312222.8844631, 1784577052.2874472, 1775217068.9006138]\n"
     ]
    }
   ],
   "source": [
    "# Second Part:\n",
    "compare = []\n",
    "\n",
    "for w in range(10):\n",
    "    km.initialize_centers( k,dim)\n",
    "    b = km.compute_WCSS(X_train) \n",
    "    compare.append(b) \n",
    "\n",
    "print compare "
   ]
  },
  {
   "cell_type": "code",
   "execution_count": 394,
   "metadata": {},
   "outputs": [
    {
     "data": {
      "text/plain": [
       "1746541145.0101554"
      ]
     },
     "execution_count": 394,
     "metadata": {},
     "output_type": "execute_result"
    }
   ],
   "source": [
    "# The answer for the smallest number \n",
    "min(compare)"
   ]
  },
  {
   "cell_type": "code",
   "execution_count": 54,
   "metadata": {},
   "outputs": [
    {
     "data": {
      "image/png": "[encoded data removed]",
      "text/plain": [
       "<matplotlib.figure.Figure at 0x115b151d0>"
      ]
     },
     "metadata": {},
     "output_type": "display_data"
    },
    {
     "data": {
      "image/png": "[encoded data removed]",
      "text/plain": [
       "<matplotlib.figure.Figure at 0x116893990>"
      ]
     },
     "metadata": {},
     "output_type": "display_data"
    },
    {
     "data": {
      "image/png": "[encoded data removed]",
      "text/plain": [
       "<matplotlib.figure.Figure at 0x116a9f150>"
      ]
     },
     "metadata": {},
     "output_type": "display_data"
    },
    {
     "data": {
      "image/png": "[encoded data removed]",
      "text/plain": [
       "<matplotlib.figure.Figure at 0x116ef6490>"
      ]
     },
     "metadata": {},
     "output_type": "display_data"
    },
    {
     "data": {
      "image/png": "[encoded data removed]",
      "text/plain": [
       "<matplotlib.figure.Figure at 0x115b58750>"
      ]
     },
     "metadata": {},
     "output_type": "display_data"
    },
    {
     "data": {
      "image/png": "[encoded data removed]",
      "text/plain": [
       "<matplotlib.figure.Figure at 0x115bde350>"
      ]
     },
     "metadata": {},
     "output_type": "display_data"
    },
    {
     "data": {
      "image/png": "[encoded data removed]",
      "text/plain": [
       "<matplotlib.figure.Figure at 0x116cefc90>"
      ]
     },
     "metadata": {},
     "output_type": "display_data"
    },
    {
     "data": {
      "image/png": "[encoded data removed]",
      "text/plain": [
       "<matplotlib.figure.Figure at 0x1169b0390>"
      ]
     },
     "metadata": {},
     "output_type": "display_data"
    },
    {
     "data": {
      "image/png": "[encoded data removed]",
      "text/plain": [
       "<matplotlib.figure.Figure at 0x116b2bad0>"
      ]
     },
     "metadata": {},
     "output_type": "display_data"
    },
    {
     "data": {
      "image/png": "[encoded data removed]",
      "text/plain": [
       "<matplotlib.figure.Figure at 0x116b68810>"
      ]
     },
     "metadata": {},
     "output_type": "display_data"
    },
    {
     "data": {
      "image/png": "[encoded data removed]",
      "text/plain": [
       "<matplotlib.figure.Figure at 0x116bbe190>"
      ]
     },
     "metadata": {},
     "output_type": "display_data"
    },
    {
     "data": {
      "image/png": "[encoded data removed]",
      "text/plain": [
       "<matplotlib.figure.Figure at 0x116c0b8d0>"
      ]
     },
     "metadata": {},
     "output_type": "display_data"
    },
    {
     "data": {
      "image/png": "[encoded data removed]",
      "text/plain": [
       "<matplotlib.figure.Figure at 0x116c63050>"
      ]
     },
     "metadata": {},
     "output_type": "display_data"
    },
    {
     "data": {
      "image/png": "[encoded data removed]",
      "text/plain": [
       "<matplotlib.figure.Figure at 0x11675fb10>"
      ]
     },
     "metadata": {},
     "output_type": "display_data"
    },
    {
     "data": {
      "image/png": "[encoded data removed]",
      "text/plain": [
       "<matplotlib.figure.Figure at 0x116640250>"
      ]
     },
     "metadata": {},
     "output_type": "display_data"
    }
   ],
   "source": [
    "#Those are the firgures I have generated. By now, just leave it here.\n",
    "for digit in range(len(km.centers)):    \n",
    "    plot_digit(km.centers[digit], digit)\n",
    "    \n",
    "# The question is finished."
   ]
  },
  {
   "cell_type": "markdown",
   "metadata": {},
   "source": [
    "#### Task 3: Classification (20 pts)\n",
    "\n",
    "After running the k-means, you get the clustering results consisting of $k$-centroid and indices of data points belonging to each cluster.(Done) Determine its label as the majority of labels in the cluster. Once we determine the labels for $k$-centroids, we can use this to classify data points.\n",
    "\n",
    "For each example $(x_i, y_i)$ in the test set **X_test**, \n",
    "1. find the nearest centroid of $x_i$\n",
    "2. predict the label of $x_i$, $y_i'$ as that of its nearest centroid\n",
    "3. compute the accuracy by counting the number of examples with $y_i = y_i'$\n",
    "\n",
    "For this task, implement the following function."
   ]
  },
  {
   "cell_type": "code",
   "execution_count": 117,
   "metadata": {},
   "outputs": [],
   "source": [
    " # find out the most common\n",
    "def most_common(lst):\n",
    "    return max(set(lst), key=lst.count)"
   ]
  },
  {
   "cell_type": "code",
   "execution_count": 118,
   "metadata": {},
   "outputs": [],
   "source": [
    "def assign_label(centers, y, assignment):\n",
    "    \"\"\"\n",
    "    determines the label of each cluster by looking at the labels of its members\n",
    "    \n",
    "    Parameters:\n",
    "     - centers: k-centroids\n",
    "     - y: true label in the dataset\n",
    "     - assignment: a list (or array) representing the assignments of data points to clusters\n",
    "    \n",
    "    Returns:\n",
    "     - labels: an array of length $k$, labels for clusters\n",
    "    \"\"\"\n",
    "    x_index = {c: [] for c in range(len(centers))}\n",
    "    for num in range(len(centers)):\n",
    "        for o in range(len(assignment)):\n",
    "            b = assignment[o]     \n",
    "            if b == num:\n",
    "                x_index[num].append(y[o]) \n",
    "                \n",
    "    y_label =[]\n",
    "    for a in range(len(x_index)):\n",
    "        counts = np.bincount(x_index[a])\n",
    "        y_label.append(np.argmax(counts))\n",
    "        \n",
    "    labels = y_label\n",
    "    return labels\n",
    "            \n",
    "    pass\n",
    "\n",
    "# Promised to be right!!"
   ]
  },
  {
   "cell_type": "markdown",
   "metadata": {},
   "source": [
    "\n",
    "\n",
    "**Visualize the followings for $i=5, 10, 15$:**\n",
    "1. test image, i.e., $x_i$ (for this use the plot_digit() function)\n",
    "2. its nearest centroid\n",
    "3. its true label $y_i$m\n",
    "4. its predicted label $y_i'$"
   ]
  },
  {
   "cell_type": "code",
   "execution_count": 128,
   "metadata": {},
   "outputs": [
    {
     "data": {
      "image/png": "[encoded data removed]",
      "text/plain": [
       "<matplotlib.figure.Figure at 0x10c3da1d0>"
      ]
     },
     "metadata": {},
     "output_type": "display_data"
    },
    {
     "data": {
      "image/png": "[encoded data removed]",
      "text/plain": [
       "<matplotlib.figure.Figure at 0x10c3dad10>"
      ]
     },
     "metadata": {},
     "output_type": "display_data"
    },
    {
     "data": {
      "image/png": "[encoded data removed]",
      "text/plain": [
       "<matplotlib.figure.Figure at 0x1176568d0>"
      ]
     },
     "metadata": {},
     "output_type": "display_data"
    }
   ],
   "source": [
    "# let's work this\n",
    "plot_digit(km.centers[4], y_label[4])\n",
    "plot_digit(km.centers[9], y_label[9])\n",
    "plot_digit(km.centers[14], y_label[14])"
   ]
  },
  {
   "cell_type": "code",
   "execution_count": 134,
   "metadata": {},
   "outputs": [],
   "source": [
    "y_label = assign_label(km.centers, y_train, km.assign_points(X_train))   "
   ]
  },
  {
   "cell_type": "code",
   "execution_count": 135,
   "metadata": {},
   "outputs": [
    {
     "name": "stdout",
     "output_type": "stream",
     "text": [
      "This is the true label = [7, 0, 7, 6, 2, 0, 3, 1, 5, 6, 9, 8, 4, 1, 2]\n"
     ]
    }
   ],
   "source": [
    "print \"This is the true label = {}\".format(y_label)"
   ]
  },
  {
   "cell_type": "markdown",
   "metadata": {},
   "source": [
    "## Task 4:Plots to draw (30 pts)\n",
    "\n",
    "1. Intialize your centroids randomly. Once you generate inital centroids, fix this initial points and use it throughout all the experiments.\n",
    "2. Set $k=15$, and draw a plot that shows how the objective value of $k$-means, WCSS, changes with iterations.\n",
    "3. For $k = [5, 10, 15, 20, 25]$, train the $k$-means model using the examples in the training set and compute its accuracy on the test set. Draw a plot showing how the classification accuracy of $k$-means changes as you change the value of $k$. The $x$-axis and $y$-axis corresponds to $k$ and accuracy, respectively.\n"
   ]
  },
  {
   "cell_type": "markdown",
   "metadata": {},
   "source": [
    "## Set $k=15$, and draw a plot that shows how the objective value of $k$-means, WCSS, changes with iterations."
   ]
  },
  {
   "cell_type": "code",
   "execution_count": 168,
   "metadata": {},
   "outputs": [],
   "source": [
    "\"\"\"\n",
    "    Here is the concept of the loop\n",
    "    first, initialize the k = 15 centroids\n",
    "    second, assign the points and calculate the WCSS\n",
    "    third, calculate the mean and assign the points\n",
    "\n",
    "\n",
    "\"\"\"\n",
    "# Note: for making it running faster. I used X_test\n",
    "a1 = 5\n",
    "km1 = MyKMeans(a1)\n",
    "dim = X_train[0].shape\n",
    "dim = dim[0]\n",
    "km1.initialize_centers(a1,dim)\n",
    "WCSS = []\n",
    "for num in range(20):\n",
    "    assignment = km1.assign_points(X_test)\n",
    "    WCSS.append(km1.compute_WCSS(X_test))\n",
    "    km1.update_mean(X_test, assignment)\n",
    "    \n",
    "    "
   ]
  },
  {
   "cell_type": "code",
   "execution_count": 175,
   "metadata": {},
   "outputs": [
    {
     "name": "stdout",
     "output_type": "stream",
     "text": [
      "[37428627.28204231, 9225691.9597931039, 9583679.10072322, 9536826.4139387012, 9531875.1939542908, 9523162.9865360986, 9516808.2293272726, 9512490.2075627185, 9501942.3049127851, 9489750.6198499296, 9475939.415285917, 9456230.9877501614, 9438682.7381753158, 9422096.3039402068, 9405609.6826677881, 9392854.2071794439, 9381103.0079892687, 9371009.5006141029, 9364006.3725416083, 9355322.4708266445]\n"
     ]
    }
   ],
   "source": [
    "print WCSS"
   ]
  },
  {
   "cell_type": "code",
   "execution_count": 174,
   "metadata": {},
   "outputs": [
    {
     "data": {
      "image/png": "[encoded data removed]",
      "text/plain": [
       "<matplotlib.figure.Figure at 0x10c4b17d0>"
      ]
     },
     "metadata": {},
     "output_type": "display_data"
    }
   ],
   "source": [
    "# Let's create a chart to see what happend.\n",
    "y = [range(20)]\n",
    "plt.plot(WCSS, y[0])\n",
    "plt.xlabel('WCSS')\n",
    "plt.ylabel('Iterations')\n",
    "plt.title('WCSS Change, When K=15')\n",
    "plt.show()"
   ]
  },
  {
   "cell_type": "markdown",
   "metadata": {},
   "source": [
    "#  Part1, When k=5, the accuracy is ?"
   ]
  },
  {
   "cell_type": "code",
   "execution_count": 65,
   "metadata": {},
   "outputs": [],
   "source": [
    "\"\"\"  When i = 5\"\"\"\n",
    "a1 = 5\n",
    "km1 = MyKMeans(a1)\n",
    "dim = X_train[0].shape\n",
    "dim = dim[0]\n",
    "km1.initialize_centers(a1,dim)\n",
    "km1.fit(X_train, 20)\n",
    "y_label = assign_label(km1.centers, y_train, km1.assign_points(X_train))\n",
    "assignment1 = km.assign_points(X_test)\n",
    "y_predict = []\n",
    "for p in range(len(assignment1)):\n",
    "    y_predict.append(y_label[assignment1[p]])\n",
    "# Now we calculate the accuracy\n",
    "right = 0\n",
    "for m in range(len(y_predict)):\n",
    "    if y_predict[m] == y_test[m]:\n",
    "        right +=1\n",
    "accuracy = float(right)/len(y_predict)\n",
    "print \"When k=15, the accuracy = {}\".format(accuracy)"
   ]
  },
  {
   "cell_type": "markdown",
   "metadata": {},
   "source": [
    "# Part1, when k=5, the accuracy = ?"
   ]
  },
  {
   "cell_type": "code",
   "execution_count": 138,
   "metadata": {},
   "outputs": [
    {
     "name": "stdout",
     "output_type": "stream",
     "text": [
      "When k=5, the accuracy = 0.4534\n"
     ]
    }
   ],
   "source": [
    "\"\"\"  When i = 5\"\"\"\n",
    "final = []\n",
    "a1 = 5\n",
    "km1 = MyKMeans(a1)\n",
    "dim = X_train[0].shape\n",
    "dim = dim[0]\n",
    "km1.initialize_centers(a1,dim)\n",
    "km1.fit(X_train, 20)\n",
    "y_label = assign_label(km1.centers, y_train, km1.assign_points(X_train))\n",
    "assignment1 = km1.assign_points(X_test)\n",
    "# Now we calculate the accuracy\n",
    "y_predict = []\n",
    "for p in range(len(assignment1)):\n",
    "    y_predict.append(y_label[assignment1[p]]) \n",
    "right = 0\n",
    "for m in range(len(y_predict)):\n",
    "    if y_predict[m] == y_test[m]:\n",
    "        right +=1\n",
    "accuracy = float(right)/len(y_predict)\n",
    "print \"When k=5, the accuracy = {}\".format(accuracy)"
   ]
  },
  {
   "cell_type": "code",
   "execution_count": 139,
   "metadata": {},
   "outputs": [],
   "source": [
    "final.append(accuracy)"
   ]
  },
  {
   "cell_type": "markdown",
   "metadata": {},
   "source": [
    "# Part2, When k=10, The accuracy is =?"
   ]
  },
  {
   "cell_type": "code",
   "execution_count": 141,
   "metadata": {},
   "outputs": [
    {
     "name": "stdout",
     "output_type": "stream",
     "text": [
      "When k=10, the accuracy = 0.5881\n"
     ]
    }
   ],
   "source": [
    "\"\"\"  When i = 10\"\"\"\n",
    "a1 = 10\n",
    "km1 = MyKMeans(a1)\n",
    "dim = X_train[0].shape\n",
    "dim = dim[0]\n",
    "km1.initialize_centers(a1,dim)\n",
    "km1.fit(X_train, 20)\n",
    "y_label = assign_label(km1.centers, y_train, km1.assign_points(X_train))\n",
    "# let's work this\n",
    "assignment1 = km1.assign_points(X_test)\n",
    "# Now we calculate the accuracy\n",
    "y_predict = []\n",
    "for p in range(len(assignment1)):\n",
    "    y_predict.append(y_label[assignment1[p]]) \n",
    "right = 0\n",
    "for m in range(len(y_predict)):\n",
    "    if y_predict[m] == y_test[m]:\n",
    "        right +=1\n",
    "accuracy = float(right)/len(y_predict)\n",
    "print \"When k=10, the accuracy = {}\".format(accuracy)\n"
   ]
  },
  {
   "cell_type": "code",
   "execution_count": 142,
   "metadata": {},
   "outputs": [],
   "source": [
    "final.append(accuracy)"
   ]
  },
  {
   "cell_type": "markdown",
   "metadata": {},
   "source": [
    "#  Part3, When k=15, the accuracy is ?"
   ]
  },
  {
   "cell_type": "code",
   "execution_count": 152,
   "metadata": {
    "scrolled": true
   },
   "outputs": [
    {
     "name": "stdout",
     "output_type": "stream",
     "text": [
      "When k=15, the accuracy = 0.6697\n"
     ]
    }
   ],
   "source": [
    "# this will take an hour\n",
    "\"\"\"  When i = 15\"\"\"\n",
    "a1 = 15\n",
    "km1 = MyKMeans(a1)\n",
    "dim = X_train[0].shape\n",
    "dim = dim[0]\n",
    "km1.initialize_centers(a1,dim)\n",
    "km1.fit(X_train, 20)\n",
    "y_label = assign_label(km1.centers, y_train, km1.assign_points(X_train))\n",
    "assignment1 = km1.assign_points(X_test)\n",
    "y_predict = []\n",
    "for p in range(len(assignment1)):\n",
    "    y_predict.append(y_label[assignment1[p]])\n",
    "# Now we calculate the accuracy\n",
    "right = 0\n",
    "for m in range(len(y_predict)):\n",
    "    if y_predict[m] == y_test[m]:\n",
    "        right +=1\n",
    "accuracy = float(right)/len(y_predict)\n",
    "print \"When k=15, the accuracy = {}\".format(accuracy)"
   ]
  },
  {
   "cell_type": "code",
   "execution_count": 153,
   "metadata": {},
   "outputs": [],
   "source": [
    "final.append(accuracy)"
   ]
  },
  {
   "cell_type": "markdown",
   "metadata": {},
   "source": [
    "#  Part4, When k=20, the accuracy is ?"
   ]
  },
  {
   "cell_type": "code",
   "execution_count": 154,
   "metadata": {},
   "outputs": [
    {
     "name": "stdout",
     "output_type": "stream",
     "text": [
      "When k=20, the accuracy = 0.6786\n"
     ]
    }
   ],
   "source": [
    "# this will take an hour\n",
    "\"\"\"  When i = 20\"\"\"\n",
    "a1 = 20\n",
    "km1 = MyKMeans(a1)\n",
    "dim = X_train[0].shape\n",
    "dim = dim[0]\n",
    "km1.initialize_centers(a1,dim)\n",
    "km1.fit(X_train, 20)\n",
    "y_label = assign_label(km1.centers, y_train, km1.assign_points(X_train))\n",
    "assignment1 = km1.assign_points(X_test)\n",
    "y_predict = []\n",
    "for p in range(len(assignment1)):\n",
    "    y_predict.append(y_label[assignment1[p]])\n",
    "# Now we calculate the accuracy\n",
    "right = 0\n",
    "for m in range(len(y_predict)):\n",
    "    if y_predict[m] == y_test[m]:\n",
    "        right +=1\n",
    "accuracy = float(right)/len(y_predict)\n",
    "print \"When k=20, the accuracy = {}\".format(accuracy)"
   ]
  },
  {
   "cell_type": "code",
   "execution_count": 155,
   "metadata": {},
   "outputs": [],
   "source": [
    "final.append(accuracy)"
   ]
  },
  {
   "cell_type": "markdown",
   "metadata": {},
   "source": [
    "#  Part5, When k=25, the accuracy is ?"
   ]
  },
  {
   "cell_type": "code",
   "execution_count": 157,
   "metadata": {},
   "outputs": [
    {
     "name": "stdout",
     "output_type": "stream",
     "text": [
      "When k=25, the accuracy = 0.7291\n"
     ]
    }
   ],
   "source": [
    "# this will take an hour\n",
    "\"\"\"  When i = 25\"\"\"\n",
    "a1 = 25\n",
    "km1 = MyKMeans(a1)\n",
    "dim = X_train[0].shape\n",
    "dim = dim[0]\n",
    "km1.initialize_centers(a1,dim)\n",
    "km1.fit(X_train, 20)\n",
    "y_label = assign_label(km1.centers, y_train, km1.assign_points(X_train))\n",
    "assignment1 = km1.assign_points(X_test)\n",
    "y_predict = []\n",
    "for p in range(len(assignment1)):\n",
    "    y_predict.append(y_label[assignment1[p]])\n",
    "# Now we calculate the accuracy\n",
    "right = 0\n",
    "for m in range(len(y_predict)):\n",
    "    if y_predict[m] == y_test[m]:\n",
    "        right +=1\n",
    "accuracy = float(right)/len(y_predict)\n",
    "print \"When k=25, the accuracy = {}\".format(accuracy)"
   ]
  },
  {
   "cell_type": "code",
   "execution_count": 158,
   "metadata": {},
   "outputs": [],
   "source": [
    "final.append(accuracy)"
   ]
  },
  {
   "cell_type": "code",
   "execution_count": 159,
   "metadata": {},
   "outputs": [
    {
     "data": {
      "image/png": "[encoded data removed]",
      "text/plain": [
       "<matplotlib.figure.Figure at 0x116798650>"
      ]
     },
     "metadata": {},
     "output_type": "display_data"
    }
   ],
   "source": [
    "y = [5,10,15,20,25]\n",
    "plt.plot(final, y)\n",
    "plt.xlabel('Accuracy')\n",
    "plt.ylabel('Number of Centroids')\n",
    "plt.title('See the Accuracy with the K-means')\n",
    "plt.show()"
   ]
  }
 ],
 "metadata": {
  "anaconda-cloud": {},
  "kernelspec": {
   "display_name": "Python 2",
   "language": "python",
   "name": "python2"
  },
  "language_info": {
   "codemirror_mode": {
    "name": "ipython",
    "version": 2
   },
   "file_extension": ".py",
   "mimetype": "text/x-python",
   "name": "python",
   "nbconvert_exporter": "python",
   "pygments_lexer": "ipython2",
   "version": "2.7.13"
  }
 },
 "nbformat": 4,
 "nbformat_minor": 1
}
